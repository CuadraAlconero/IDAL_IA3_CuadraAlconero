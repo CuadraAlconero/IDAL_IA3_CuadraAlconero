{
  "nbformat": 4,
  "nbformat_minor": 0,
  "metadata": {
    "colab": {
      "name": "Proyecto de Visualización.ipynb",
      "provenance": [],
      "authorship_tag": "ABX9TyOouQFmSDmHXIOgR/uqH3LC",
      "include_colab_link": true
    },
    "kernelspec": {
      "name": "python3",
      "display_name": "Python 3"
    },
    "language_info": {
      "name": "python"
    }
  },
  "cells": [
    {
      "cell_type": "markdown",
      "metadata": {
        "id": "view-in-github",
        "colab_type": "text"
      },
      "source": [
        "<a href=\"https://colab.research.google.com/github/CuadraAlconero/IDAL_IA3_CuadraAlconero/blob/main/Proyecto_de_Visualizaci%C3%B3n.ipynb\" target=\"_parent\"><img src=\"https://colab.research.google.com/assets/colab-badge.svg\" alt=\"Open In Colab\"/></a>"
      ]
    },
    {
      "cell_type": "code",
      "metadata": {
        "colab": {
          "base_uri": "https://localhost:8080/"
        },
        "id": "K6rZTJT-SW1Y",
        "outputId": "33f6de65-5fba-4ee3-cf04-16d6ec62e291"
      },
      "source": [
        "!curl https://raw.githubusercontent.com/CuadraAlconero/IDAL_IA3_CuadraAlconero/main/fifa_dataset.csv -o fifa_dataset.csv"
      ],
      "execution_count": 3,
      "outputs": [
        {
          "output_type": "stream",
          "name": "stdout",
          "text": [
            "  % Total    % Received % Xferd  Average Speed   Time    Time     Time  Current\n",
            "                                 Dload  Upload   Total   Spent    Left  Speed\n",
            "100 8925k  100 8925k    0     0  16.3M      0 --:--:-- --:--:-- --:--:-- 16.2M\n"
          ]
        }
      ]
    },
    {
      "cell_type": "markdown",
      "metadata": {
        "id": "ud3M_IlKZccH"
      },
      "source": [
        "# Enunciado\n",
        "\n",
        "Bienvenidos a EA SPORTS IT'S IN THE GAME. Os hemos contratado como científicos de datos para ayudarnos a analizar a nuestros jugadores de FIFA. El objetivo es maximizar los beneficios de la venta de sobres en el modo Ultimate Team y para ello necesitamos conocer nuestros datos en profundidad.\n",
        "\n",
        "Os vamos a proporcionar un dataset con la información y características de todos nuestros jugadores. Desde su precio en el mercado de FIFA así como sus atributos que definen su desempeño en el juego. **Nos gustaría que el resultado de cada pregunta fuese una visualización** de forma que nuestros desarrolladores del mundo del videojuego puedan entender de forma apropiada los resultados.\n",
        "\n",
        "Las preguntas que debéis resolver son las siguientes:\n",
        "\n",
        "- Nos gustaría comenzar el análisis conociendo que 15 clubs tiene una media de jugadores con más valor y 15 clubs tienen una media de jugadores con menos valor. Para ello construíd uno o más gráficos que permita distinguir como la media de la variable Overall es diferente entre los países. ¿Para maximizar los beneficios, qué jugadores deberíamos incluir con más frecuencia en cada sobre de Ultimate Team?\n",
        "\n",
        "- A menudo tendemos a definir las estadísticas de cada jugador teniendo en cuenta su desempeño en las diferentes competiciones del mundo real. Nos gustaría conocer si existe alguna relación que no hayamos sido capaz de percibir entre estas mismas. Comprobad si existe alguna relación entre las variables HeadingAccuracy y Jumping, Agility, Reactions o Vision (.corr() en el dataset). ¿Si tuviéramos que eliminar la variable HeadingAccuracy, cuál utilizaríais para controlar la precisión de los remates de cabeza? Un valor de correlación superior a 0,8 indica que una variable podría sustituir a la otra. Resaltad el área en la gráfica donde habéis encontrado la respuesta.\n",
        "\n",
        "- Nos interesaría saber si existe algún jugador que se comporte de forma anómala en nuestro dataset (outlier). Nos gustaría conocer si este comportamiento anómalo se produce desde el punto de vista de su valor de mercado (Value) y comportamiento global (Overall). Calculad como se distribuyen estas variables con respecto a la nacionalidad de cada jugador (incluíd en el estudio únicamente los países Argentina, España, Inglaterra y Suecia). ¿Qué jugador debería ser el más extraño en aparecer en los sobres de Ultimate Team? Si utilizáis un histograma para esta tarea se recomienda usar valores de bins bajos (entre 2 y 10) para resolver el ejercicio.\n",
        "\n",
        "- Recalcad los outliers (si existen) encontrados en el ejercicio anterior utilizando texto para escribir el nombre del jugador (solo el caso más extremos). Usad un círculo para marcar el outlier con valores máximos.\n",
        "\n",
        "- Utilizad una visualización para mostrar que como se distribuye el valor de los jugadores (Value) con respecto a su nacionalidad (Argentina y Suecia). Si tuviéramos que elegir un país para aparecer con menor frecuencia en los sobres. ¿Cuál sería?\n",
        "\n",
        "- Encontrad a un jugador o jugadores que destaque utilizando las variables Agility y ShotPower (Utilizad únicamente jugadores que pertenezcan a los 15 clubs con una media de valor por jugador mayor). ¿Tiene sentido con respecto a lo que conocéis de los jugadores en la realidad?\n",
        "\n",
        "- Recalcad los jugadores encontrados previamente con texto y/o con un círculo\n",
        "\n",
        "- ¿Existe algún club con jugadores especialmente ágiles y con un tiro potente? Si existe el club recalcad una región en vuestra gráfica anterior con un círculo que rodee los puntos que os han llevado a tomar esa decisión.\n",
        "\n",
        "- Finalmente dadle a los resultados un formato de informe. Agrupad las gráficas que consideréis coherentes utilizando subplots (puede que ya lo hayáis hecho en algún ejercicio previo). Escribid los razonamientos \n",
        "\n"
      ]
    },
    {
      "cell_type": "code",
      "metadata": {
        "id": "4WCl7yidUzLg"
      },
      "source": [
        "import pandas as pd\n",
        "import seaborn as sns\n",
        "import matplotlib.pyplot as plt"
      ],
      "execution_count": 74,
      "outputs": []
    },
    {
      "cell_type": "code",
      "metadata": {
        "id": "VztSpaaoUR3O"
      },
      "source": [
        "dataset = pd.read_csv(\"fifa_dataset.csv\", error_bad_lines=False, index_col=\"Unnamed: 0\")\n",
        "bool_array = dataset[\"Value\"] == \"€0\"\n",
        "dataset = dataset.loc[-bool_array]\n",
        "dataset_1 = dataset.iloc[:,:11]\n",
        "dataset_2 = dataset.iloc[:,53:]"
      ],
      "execution_count": 75,
      "outputs": []
    },
    {
      "cell_type": "code",
      "metadata": {
        "id": "AgkXjA0PqmNn"
      },
      "source": [
        "# Transform Value in Number\n",
        "values = []\n",
        "for value in dataset_1[\"Value\"]:\n",
        "  unit = value[-1]\n",
        "  number = float(value[1:-1])\n",
        "  if unit == \"M\":\n",
        "    number = number*10**6\n",
        "  if unit == \"K\":\n",
        "    number = number*10**3\n",
        "  values.append(number)\n",
        "dataset_1[\"Value\"] = values"
      ],
      "execution_count": 76,
      "outputs": []
    }
  ]
}