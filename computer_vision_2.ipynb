{
  "nbformat": 4,
  "nbformat_minor": 0,
  "metadata": {
    "colab": {
      "name": "computer_vision_2.ipynb",
      "provenance": [],
      "authorship_tag": "ABX9TyNdSHWCEH//d3k0/YH8cVjf",
      "include_colab_link": true
    },
    "kernelspec": {
      "name": "python3",
      "display_name": "Python 3"
    },
    "language_info": {
      "name": "python"
    }
  },
  "cells": [
    {
      "cell_type": "markdown",
      "metadata": {
        "id": "view-in-github",
        "colab_type": "text"
      },
      "source": [
        "<a href=\"https://colab.research.google.com/github/CuadraAlconero/IDAL_IA3_CuadraAlconero/blob/main/computer_vision_2.ipynb\" target=\"_parent\"><img src=\"https://colab.research.google.com/assets/colab-badge.svg\" alt=\"Open In Colab\"/></a>"
      ]
    },
    {
      "cell_type": "markdown",
      "metadata": {
        "id": "Bf3AjZGGE6v7"
      },
      "source": [
        "# CNN\n",
        "\n",
        "CNN o Convolutional Neural Networks son un tipo de red de neuronas que utiliza convoluciones para extraer características de una imagen o una señal (por ejemplo una serie temporal).\n",
        "\n",
        "Tal y como hemos visto anteriormente la convolución tiene el potencial de extraer características de la entrada si se define correctamente el filtro de la convolución (en el caso de las imágenes) o una señal (en el caso de convoluciones 1d).\n",
        "\n",
        "El uso de la convolución en este tipo de redes se ve sustentado por tres ideas principales:\n",
        "\n",
        "- Las redes neuronales vanilla utilizan la multiplicación matricial para calcular interacciones entre cada peso en cada neurona con todas las entradas. Sin embargo una convolución es capaz de interactuar con decenas o cientos de píxeles a la vez mediante la ventana que deslizamos durante la convolución. Esto se traduce en que no es necesario almacenar un número tan elevado de parámetros ni ajustarlos lo que se traduce en un mejor rendimiento en cuanto a la memoria y al tiempo de computación.\n",
        "\n",
        "- Los filtros calculados se deslizan a través de la imagen tratando de calcular la misma características en regiones diferentes de la misma. Si una característica útil se encuentra en un punto de la imagen, es posible que la misma característica puedad ser encontrada en otra región de la misma. Las redes convolucionales comparten parámetros de esta manera mientras que en una red vanilla cada peso interactúa de forma independiente con cada valor de la entrada una única vez.\n",
        "\n",
        "- La propiedad descrita anteriormente (compartir parámetros) añade cierta tolerancia a la traslación de características dentro de una imagen.\n",
        "\n",
        "Las redes convolucionales han demostrado un rendimiento muy alto en problemas de visión por computador siendo actualmente el estado del arte en este campo."
      ]
    },
    {
      "cell_type": "markdown",
      "metadata": {
        "id": "utoSJpUnIPz5"
      },
      "source": [
        "## Arquitectura tradicional de un modelo CNN\n",
        "\n",
        "Generalmente cuando se diseñan arquitecturas con CNN se sigue el siguiente esquema:\n",
        "\n",
        "- Bloque CNN+Pooling: En un primer instante se entrenan las capas convolucionales que suelen ir acompañadas de capas de pooling. Este primer bloque se centra en extraer características de la entrada.\n",
        "\n",
        "- Flatten: Las salidas de la capa anterior son matrices de dos dimensiones. Debido a la arquitectura de estas redes (el final de la arquitectura suele ser una red neuronal tradicional), es necesario \"aplanar\" la información y convertirla en un vector de una única dimensión.\n",
        "\n",
        "- Dense layers: Finalmente la arquitectura termina añadiendo una o más capas densas para procesar las características extraídas en el primer bloque."
      ]
    },
    {
      "cell_type": "markdown",
      "metadata": {
        "id": "uFez6J-QKFLG"
      },
      "source": [
        "![cnn_architectura.png](data:image/png;base64,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)"
      ]
    },
    {
      "cell_type": "markdown",
      "metadata": {
        "id": "WZSw7UysKIhe"
      },
      "source": [
        "## Definir una capa convolucional en keras\n",
        "\n",
        "Utilizando keras es posible definir una capa convolucional en un modelo. Para ello solo hay que seguir los siguientes pasos.\n",
        "\n",
        "- Accedemos a la capa con keras.layers.Conv2D\n",
        "- Definimos los siguientes parámetros\n",
        "  - filters: Número de filtros que se van a incluir en esta capa\n",
        "  - kernel_size: Tamaño del filtro. El tamaño del filtro definirá cuantos pesos se incluyen en cada filtro\n",
        "  - strides: Velocidad de desplazamiento de la ventana\n",
        "  - padding: Padding aplicado a la entrada\n",
        "  - activation: Función de activación aplicada al filtro"
      ]
    },
    {
      "cell_type": "code",
      "metadata": {
        "id": "Z71hDLCcK9s0"
      },
      "source": [
        "import tensorflow.keras as keras"
      ],
      "execution_count": 1,
      "outputs": []
    },
    {
      "cell_type": "code",
      "metadata": {
        "id": "hg6qInUOIE9f"
      },
      "source": [
        "# Ejemplo\n",
        "cnn_layer = keras.layers.Conv2D(10, (3,3), padding=\"same\", strides=(2,1))"
      ],
      "execution_count": 3,
      "outputs": []
    },
    {
      "cell_type": "markdown",
      "metadata": {
        "id": "PH6cUQJ5LQTP"
      },
      "source": [
        "# Ejercicio\n",
        "\n",
        "Construid la arquitectura previamente descrita (sin capas de Pooling) utilizando la api funcional de Keras. Entrenad un clasificador sobre el dataset de mnist numbers: https://keras.io/api/datasets/mnist/"
      ]
    },
    {
      "cell_type": "code",
      "metadata": {
        "id": "x2jzkN3WLMvK"
      },
      "source": [
        "X, Y = keras.datasets.mnist.load_data(path=\"mnist.npz\")"
      ],
      "execution_count": 5,
      "outputs": []
    },
    {
      "cell_type": "code",
      "metadata": {
        "id": "ihAJ_oTTLswS"
      },
      "source": [
        ""
      ],
      "execution_count": null,
      "outputs": []
    }
  ]
}