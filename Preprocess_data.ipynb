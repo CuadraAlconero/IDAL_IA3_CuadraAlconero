{
  "nbformat": 4,
  "nbformat_minor": 0,
  "metadata": {
    "colab": {
      "name": "Preprocess_data.ipynb",
      "provenance": [],
      "authorship_tag": "ABX9TyPrOFOWP/cKc9w25GX38QNb",
      "include_colab_link": true
    },
    "kernelspec": {
      "name": "python3",
      "display_name": "Python 3"
    },
    "language_info": {
      "name": "python"
    }
  },
  "cells": [
    {
      "cell_type": "markdown",
      "metadata": {
        "id": "view-in-github",
        "colab_type": "text"
      },
      "source": [
        "<a href=\"https://colab.research.google.com/github/CuadraAlconero/IDAL_IA3_CuadraAlconero/blob/main/Preprocess_data.ipynb\" target=\"_parent\"><img src=\"https://colab.research.google.com/assets/colab-badge.svg\" alt=\"Open In Colab\"/></a>"
      ]
    },
    {
      "cell_type": "markdown",
      "metadata": {
        "id": "ktzpIbiAvq_I"
      },
      "source": [
        "\n",
        "\n",
        "---\n",
        "\n",
        "\n",
        "\n",
        "---\n",
        "\n",
        "\n",
        "\n",
        "# Normalización\n",
        "\n",
        "Se conoce como normalización a los procesos que utilizando conceptos estadísticos permiten representar un conjunto de características en una misma escala. Existen diversos tipos de normalización:\n",
        "\n",
        "- Min-Max Scaling: Proceso en el cual se utilizan los valores máximos y mínimos de la variable para representarla en una escala entre 0 y 1. Generalmente tiene sentido aplicar esta técnica cuando los datos no siguen una distribución determinada.\n",
        "\n",
        "- Standarization: Proceso en el cual se utiliza la media y la desviación estandar de la variable para centrar los valores en una escala entre -1 y 1.  Generalmente tiene sentido aplicar esta técnica cuando los datos siguen una distribución Gaussiana (normal).\n",
        "\n",
        "Veamos como se aplica esta técnica utilizando sklearn.\n",
        "\n",
        "\n",
        "\n",
        "---\n",
        "\n",
        "\n",
        "\n",
        "\n",
        "\n",
        "\n",
        "\n"
      ]
    },
    {
      "cell_type": "code",
      "metadata": {
        "id": "SqrUZF9YvsGk"
      },
      "source": [
        "import seaborn as sns\n",
        "import pandas as pd\n",
        "from sklearn.preprocessing import StandardScaler\n",
        "from sklearn.preprocessing import MinMaxScaler"
      ],
      "execution_count": 4,
      "outputs": []
    },
    {
      "cell_type": "code",
      "metadata": {
        "id": "-rch-OVYLNAL"
      },
      "source": [
        "dataset = sns.load_dataset(\"iris\")"
      ],
      "execution_count": 5,
      "outputs": []
    },
    {
      "cell_type": "code",
      "metadata": {
        "colab": {
          "base_uri": "https://localhost:8080/",
          "height": 362
        },
        "id": "lSHScTmVLQ8H",
        "outputId": "0eb87f90-cdca-42d5-a417-fcdeb77f29ba"
      },
      "source": [
        "dataset.head(10)"
      ],
      "execution_count": 6,
      "outputs": [
        {
          "output_type": "execute_result",
          "data": {
            "text/html": [
              "<div>\n",
              "<style scoped>\n",
              "    .dataframe tbody tr th:only-of-type {\n",
              "        vertical-align: middle;\n",
              "    }\n",
              "\n",
              "    .dataframe tbody tr th {\n",
              "        vertical-align: top;\n",
              "    }\n",
              "\n",
              "    .dataframe thead th {\n",
              "        text-align: right;\n",
              "    }\n",
              "</style>\n",
              "<table border=\"1\" class=\"dataframe\">\n",
              "  <thead>\n",
              "    <tr style=\"text-align: right;\">\n",
              "      <th></th>\n",
              "      <th>sepal_length</th>\n",
              "      <th>sepal_width</th>\n",
              "      <th>petal_length</th>\n",
              "      <th>petal_width</th>\n",
              "      <th>species</th>\n",
              "    </tr>\n",
              "  </thead>\n",
              "  <tbody>\n",
              "    <tr>\n",
              "      <th>0</th>\n",
              "      <td>5.1</td>\n",
              "      <td>3.5</td>\n",
              "      <td>1.4</td>\n",
              "      <td>0.2</td>\n",
              "      <td>setosa</td>\n",
              "    </tr>\n",
              "    <tr>\n",
              "      <th>1</th>\n",
              "      <td>4.9</td>\n",
              "      <td>3.0</td>\n",
              "      <td>1.4</td>\n",
              "      <td>0.2</td>\n",
              "      <td>setosa</td>\n",
              "    </tr>\n",
              "    <tr>\n",
              "      <th>2</th>\n",
              "      <td>4.7</td>\n",
              "      <td>3.2</td>\n",
              "      <td>1.3</td>\n",
              "      <td>0.2</td>\n",
              "      <td>setosa</td>\n",
              "    </tr>\n",
              "    <tr>\n",
              "      <th>3</th>\n",
              "      <td>4.6</td>\n",
              "      <td>3.1</td>\n",
              "      <td>1.5</td>\n",
              "      <td>0.2</td>\n",
              "      <td>setosa</td>\n",
              "    </tr>\n",
              "    <tr>\n",
              "      <th>4</th>\n",
              "      <td>5.0</td>\n",
              "      <td>3.6</td>\n",
              "      <td>1.4</td>\n",
              "      <td>0.2</td>\n",
              "      <td>setosa</td>\n",
              "    </tr>\n",
              "    <tr>\n",
              "      <th>5</th>\n",
              "      <td>5.4</td>\n",
              "      <td>3.9</td>\n",
              "      <td>1.7</td>\n",
              "      <td>0.4</td>\n",
              "      <td>setosa</td>\n",
              "    </tr>\n",
              "    <tr>\n",
              "      <th>6</th>\n",
              "      <td>4.6</td>\n",
              "      <td>3.4</td>\n",
              "      <td>1.4</td>\n",
              "      <td>0.3</td>\n",
              "      <td>setosa</td>\n",
              "    </tr>\n",
              "    <tr>\n",
              "      <th>7</th>\n",
              "      <td>5.0</td>\n",
              "      <td>3.4</td>\n",
              "      <td>1.5</td>\n",
              "      <td>0.2</td>\n",
              "      <td>setosa</td>\n",
              "    </tr>\n",
              "    <tr>\n",
              "      <th>8</th>\n",
              "      <td>4.4</td>\n",
              "      <td>2.9</td>\n",
              "      <td>1.4</td>\n",
              "      <td>0.2</td>\n",
              "      <td>setosa</td>\n",
              "    </tr>\n",
              "    <tr>\n",
              "      <th>9</th>\n",
              "      <td>4.9</td>\n",
              "      <td>3.1</td>\n",
              "      <td>1.5</td>\n",
              "      <td>0.1</td>\n",
              "      <td>setosa</td>\n",
              "    </tr>\n",
              "  </tbody>\n",
              "</table>\n",
              "</div>"
            ],
            "text/plain": [
              "   sepal_length  sepal_width  petal_length  petal_width species\n",
              "0           5.1          3.5           1.4          0.2  setosa\n",
              "1           4.9          3.0           1.4          0.2  setosa\n",
              "2           4.7          3.2           1.3          0.2  setosa\n",
              "3           4.6          3.1           1.5          0.2  setosa\n",
              "4           5.0          3.6           1.4          0.2  setosa\n",
              "5           5.4          3.9           1.7          0.4  setosa\n",
              "6           4.6          3.4           1.4          0.3  setosa\n",
              "7           5.0          3.4           1.5          0.2  setosa\n",
              "8           4.4          2.9           1.4          0.2  setosa\n",
              "9           4.9          3.1           1.5          0.1  setosa"
            ]
          },
          "metadata": {},
          "execution_count": 6
        }
      ]
    },
    {
      "cell_type": "code",
      "metadata": {
        "colab": {
          "base_uri": "https://localhost:8080/",
          "height": 206
        },
        "id": "ZVK7kO3PLXRQ",
        "outputId": "b736bd59-62f1-4ebe-a64a-837bbe6af228"
      },
      "source": [
        "# Standarization\n",
        "X = dataset.iloc[:,:-1]\n",
        "std_scl = StandardScaler()\n",
        "X_transformed = std_scl.fit_transform(X)\n",
        "X_transformed_df = pd.DataFrame(X_transformed)\n",
        "X_transformed_df.head(5)"
      ],
      "execution_count": 7,
      "outputs": [
        {
          "output_type": "execute_result",
          "data": {
            "text/html": [
              "<div>\n",
              "<style scoped>\n",
              "    .dataframe tbody tr th:only-of-type {\n",
              "        vertical-align: middle;\n",
              "    }\n",
              "\n",
              "    .dataframe tbody tr th {\n",
              "        vertical-align: top;\n",
              "    }\n",
              "\n",
              "    .dataframe thead th {\n",
              "        text-align: right;\n",
              "    }\n",
              "</style>\n",
              "<table border=\"1\" class=\"dataframe\">\n",
              "  <thead>\n",
              "    <tr style=\"text-align: right;\">\n",
              "      <th></th>\n",
              "      <th>0</th>\n",
              "      <th>1</th>\n",
              "      <th>2</th>\n",
              "      <th>3</th>\n",
              "    </tr>\n",
              "  </thead>\n",
              "  <tbody>\n",
              "    <tr>\n",
              "      <th>0</th>\n",
              "      <td>-0.900681</td>\n",
              "      <td>1.019004</td>\n",
              "      <td>-1.340227</td>\n",
              "      <td>-1.315444</td>\n",
              "    </tr>\n",
              "    <tr>\n",
              "      <th>1</th>\n",
              "      <td>-1.143017</td>\n",
              "      <td>-0.131979</td>\n",
              "      <td>-1.340227</td>\n",
              "      <td>-1.315444</td>\n",
              "    </tr>\n",
              "    <tr>\n",
              "      <th>2</th>\n",
              "      <td>-1.385353</td>\n",
              "      <td>0.328414</td>\n",
              "      <td>-1.397064</td>\n",
              "      <td>-1.315444</td>\n",
              "    </tr>\n",
              "    <tr>\n",
              "      <th>3</th>\n",
              "      <td>-1.506521</td>\n",
              "      <td>0.098217</td>\n",
              "      <td>-1.283389</td>\n",
              "      <td>-1.315444</td>\n",
              "    </tr>\n",
              "    <tr>\n",
              "      <th>4</th>\n",
              "      <td>-1.021849</td>\n",
              "      <td>1.249201</td>\n",
              "      <td>-1.340227</td>\n",
              "      <td>-1.315444</td>\n",
              "    </tr>\n",
              "  </tbody>\n",
              "</table>\n",
              "</div>"
            ],
            "text/plain": [
              "          0         1         2         3\n",
              "0 -0.900681  1.019004 -1.340227 -1.315444\n",
              "1 -1.143017 -0.131979 -1.340227 -1.315444\n",
              "2 -1.385353  0.328414 -1.397064 -1.315444\n",
              "3 -1.506521  0.098217 -1.283389 -1.315444\n",
              "4 -1.021849  1.249201 -1.340227 -1.315444"
            ]
          },
          "metadata": {},
          "execution_count": 7
        }
      ]
    },
    {
      "cell_type": "code",
      "metadata": {
        "colab": {
          "base_uri": "https://localhost:8080/",
          "height": 206
        },
        "id": "Bx_1sxKYMOrH",
        "outputId": "a0decca6-7a2c-413e-e27b-19a778f8b9f8"
      },
      "source": [
        "# Min-Max Scaling\n",
        "min_max_scl = MinMaxScaler()\n",
        "X_transformed = min_max_scl.fit_transform(X)\n",
        "X_transformed_df = pd.DataFrame(X_transformed)\n",
        "X_transformed_df.head(5)"
      ],
      "execution_count": 8,
      "outputs": [
        {
          "output_type": "execute_result",
          "data": {
            "text/html": [
              "<div>\n",
              "<style scoped>\n",
              "    .dataframe tbody tr th:only-of-type {\n",
              "        vertical-align: middle;\n",
              "    }\n",
              "\n",
              "    .dataframe tbody tr th {\n",
              "        vertical-align: top;\n",
              "    }\n",
              "\n",
              "    .dataframe thead th {\n",
              "        text-align: right;\n",
              "    }\n",
              "</style>\n",
              "<table border=\"1\" class=\"dataframe\">\n",
              "  <thead>\n",
              "    <tr style=\"text-align: right;\">\n",
              "      <th></th>\n",
              "      <th>0</th>\n",
              "      <th>1</th>\n",
              "      <th>2</th>\n",
              "      <th>3</th>\n",
              "    </tr>\n",
              "  </thead>\n",
              "  <tbody>\n",
              "    <tr>\n",
              "      <th>0</th>\n",
              "      <td>0.222222</td>\n",
              "      <td>0.625000</td>\n",
              "      <td>0.067797</td>\n",
              "      <td>0.041667</td>\n",
              "    </tr>\n",
              "    <tr>\n",
              "      <th>1</th>\n",
              "      <td>0.166667</td>\n",
              "      <td>0.416667</td>\n",
              "      <td>0.067797</td>\n",
              "      <td>0.041667</td>\n",
              "    </tr>\n",
              "    <tr>\n",
              "      <th>2</th>\n",
              "      <td>0.111111</td>\n",
              "      <td>0.500000</td>\n",
              "      <td>0.050847</td>\n",
              "      <td>0.041667</td>\n",
              "    </tr>\n",
              "    <tr>\n",
              "      <th>3</th>\n",
              "      <td>0.083333</td>\n",
              "      <td>0.458333</td>\n",
              "      <td>0.084746</td>\n",
              "      <td>0.041667</td>\n",
              "    </tr>\n",
              "    <tr>\n",
              "      <th>4</th>\n",
              "      <td>0.194444</td>\n",
              "      <td>0.666667</td>\n",
              "      <td>0.067797</td>\n",
              "      <td>0.041667</td>\n",
              "    </tr>\n",
              "  </tbody>\n",
              "</table>\n",
              "</div>"
            ],
            "text/plain": [
              "          0         1         2         3\n",
              "0  0.222222  0.625000  0.067797  0.041667\n",
              "1  0.166667  0.416667  0.067797  0.041667\n",
              "2  0.111111  0.500000  0.050847  0.041667\n",
              "3  0.083333  0.458333  0.084746  0.041667\n",
              "4  0.194444  0.666667  0.067797  0.041667"
            ]
          },
          "metadata": {},
          "execution_count": 8
        }
      ]
    },
    {
      "cell_type": "markdown",
      "metadata": {
        "id": "Vi2AoP9xMg9T"
      },
      "source": [
        "\n",
        "\n",
        "---\n",
        "\n",
        "\n",
        "\n",
        "# Ejercicio\n",
        "\n",
        "Aplicad ambos tipos de normalización sobre el dataset de pinguins\n",
        "\n",
        "\n",
        "---\n",
        "\n",
        "\n",
        "\n",
        "\n"
      ]
    },
    {
      "cell_type": "markdown",
      "metadata": {
        "id": "AkEhZ2PzdICY"
      },
      "source": [
        "\n",
        "\n",
        "---\n",
        "\n",
        "\n",
        "\n",
        "# Detección de outliers\n",
        "\n",
        "Un outlier (o punto singular) es un punto en un dataset que difiere drásticamente del resto. \n",
        "\n",
        "Existen diversas formas de detectar la existencia de un punto singular en un conjunto de datos, desde algoritmos de machine learning dedicados a su detección como reglas estadísticas que permiten calcularlos.\n",
        "\n",
        "El interés en la detección de un outlier radica en el daño al rendimiento de un modelo de machine learning que estos pueden provocar, así como el interés en detectar su propia existencia que puede ser el objetivo del problema (detección de fraude o hábitos de consumo).\n",
        "\n",
        "Para calcular outliers en este seminario vamos a aplicar la regla intercuartil\n",
        "\n"
      ]
    },
    {
      "cell_type": "markdown",
      "metadata": {
        "id": "GS_iXZU3g_aY"
      },
      "source": [
        "# Quartile\n",
        "\n",
        "Los cuartiles son un punto de corte que en estadística se utilizan para dividir un conjunto de datos en cuatro partes.\n",
        "\n",
        "Q1 - El primer cuartil se define como el número que divide justo por la mitad a un conjunto de datos entre su valor mínimo y su mediana. Por debajo de este cuartil se encuentra el 25% de los datos y por encima el 75%.\n",
        "\n",
        "Q2 - El segundo cuartil se define como la mediana. A cada lado de la mediana se encuentra el 50% de los datos.\n",
        "\n",
        "Q3 - El tercer cuartil se define como el número que divide justo por la mitad a un conjunto de datos entre su valor máximo y su mediana. Por debajo de este cuartil se encuentra el 75% de los datos y por encima el 25%\n",
        "\n",
        "Distancia intercuartil (IQR) - Se define como Q3 - Q1\n",
        "\n",
        "Los cuartiles se usan en estadística de forma amplia para describir los conjuntos de datos"
      ]
    },
    {
      "cell_type": "markdown",
      "metadata": {
        "id": "FfqPEYVViWJv"
      },
      "source": [
        "# Regla Intercuartil (IQR Rule)\n",
        "\n",
        "La regla intercuartil define a un outlier como todo punto que cumpla una de estas dos condiciones:\n",
        "\n",
        "$datapoint > Q3+1.5*IQR$\n",
        "\n",
        "$datapoint < Q1-1.5*IQR$\n",
        "\n",
        "\n",
        "\n",
        "---\n",
        "\n",
        "\n"
      ]
    },
    {
      "cell_type": "code",
      "metadata": {
        "colab": {
          "base_uri": "https://localhost:8080/"
        },
        "id": "NW5vLgTegPll",
        "outputId": "3b34abdc-62da-49c6-be25-710e591e15a7"
      },
      "source": [
        "# Calculamos iqr para todas las variables\n",
        "\n",
        "dataset = sns.load_dataset(\"iris\").iloc[:, :-1]\n",
        "describe_df = dataset.describe()\n",
        "iqr = describe_df.loc[\"75%\"] - describe_df.loc[\"25%\"]\n",
        "iqr"
      ],
      "execution_count": 42,
      "outputs": [
        {
          "output_type": "execute_result",
          "data": {
            "text/plain": [
              "sepal_length    1.3\n",
              "sepal_width     0.5\n",
              "petal_length    3.5\n",
              "petal_width     1.5\n",
              "dtype: float64"
            ]
          },
          "metadata": {},
          "execution_count": 42
        }
      ]
    },
    {
      "cell_type": "code",
      "metadata": {
        "id": "58z58ELwkz8U"
      },
      "source": [
        "# Calculamos el límite superior e inferior\n",
        "upper_bound = describe_df.loc[\"75%\"]+1.5*iqr\n",
        "lower_bound = describe_df.loc[\"25%\"]-1.5*iqr"
      ],
      "execution_count": 43,
      "outputs": []
    },
    {
      "cell_type": "code",
      "metadata": {
        "colab": {
          "base_uri": "https://localhost:8080/"
        },
        "id": "bzcgKuDwmEw9",
        "outputId": "7f953d4f-46e3-4d37-9fff-b7cb7d2bcc62"
      },
      "source": [
        "upper_bound"
      ],
      "execution_count": 44,
      "outputs": [
        {
          "output_type": "execute_result",
          "data": {
            "text/plain": [
              "sepal_length     8.35\n",
              "sepal_width      4.05\n",
              "petal_length    10.35\n",
              "petal_width      4.05\n",
              "dtype: float64"
            ]
          },
          "metadata": {},
          "execution_count": 44
        }
      ]
    },
    {
      "cell_type": "code",
      "metadata": {
        "colab": {
          "base_uri": "https://localhost:8080/",
          "height": 143
        },
        "id": "36L5ddp5mG2X",
        "outputId": "862087e8-fcfa-4daa-85c9-16aab87033ee"
      },
      "source": [
        "# Encontramos los outliers\n",
        "bool_index = dataset > upper_bound\n",
        "outliers = bool_index.sum(axis=1)\n",
        "bool_index2 = outliers > 0\n",
        "dataset.loc[bool_index2]"
      ],
      "execution_count": 57,
      "outputs": [
        {
          "output_type": "execute_result",
          "data": {
            "text/html": [
              "<div>\n",
              "<style scoped>\n",
              "    .dataframe tbody tr th:only-of-type {\n",
              "        vertical-align: middle;\n",
              "    }\n",
              "\n",
              "    .dataframe tbody tr th {\n",
              "        vertical-align: top;\n",
              "    }\n",
              "\n",
              "    .dataframe thead th {\n",
              "        text-align: right;\n",
              "    }\n",
              "</style>\n",
              "<table border=\"1\" class=\"dataframe\">\n",
              "  <thead>\n",
              "    <tr style=\"text-align: right;\">\n",
              "      <th></th>\n",
              "      <th>sepal_length</th>\n",
              "      <th>sepal_width</th>\n",
              "      <th>petal_length</th>\n",
              "      <th>petal_width</th>\n",
              "    </tr>\n",
              "  </thead>\n",
              "  <tbody>\n",
              "    <tr>\n",
              "      <th>15</th>\n",
              "      <td>5.7</td>\n",
              "      <td>4.4</td>\n",
              "      <td>1.5</td>\n",
              "      <td>0.4</td>\n",
              "    </tr>\n",
              "    <tr>\n",
              "      <th>32</th>\n",
              "      <td>5.2</td>\n",
              "      <td>4.1</td>\n",
              "      <td>1.5</td>\n",
              "      <td>0.1</td>\n",
              "    </tr>\n",
              "    <tr>\n",
              "      <th>33</th>\n",
              "      <td>5.5</td>\n",
              "      <td>4.2</td>\n",
              "      <td>1.4</td>\n",
              "      <td>0.2</td>\n",
              "    </tr>\n",
              "  </tbody>\n",
              "</table>\n",
              "</div>"
            ],
            "text/plain": [
              "    sepal_length  sepal_width  petal_length  petal_width\n",
              "15           5.7          4.4           1.5          0.4\n",
              "32           5.2          4.1           1.5          0.1\n",
              "33           5.5          4.2           1.4          0.2"
            ]
          },
          "metadata": {},
          "execution_count": 57
        }
      ]
    },
    {
      "cell_type": "code",
      "metadata": {
        "colab": {
          "base_uri": "https://localhost:8080/",
          "height": 143
        },
        "id": "dWxlfvplm0P9",
        "outputId": "a9b92292-61ef-4316-d99a-fd5672eaf20a"
      },
      "source": [
        "# Encontramos que variable produce el outlier\n",
        "bool_index.loc[bool_index2]"
      ],
      "execution_count": 59,
      "outputs": [
        {
          "output_type": "execute_result",
          "data": {
            "text/html": [
              "<div>\n",
              "<style scoped>\n",
              "    .dataframe tbody tr th:only-of-type {\n",
              "        vertical-align: middle;\n",
              "    }\n",
              "\n",
              "    .dataframe tbody tr th {\n",
              "        vertical-align: top;\n",
              "    }\n",
              "\n",
              "    .dataframe thead th {\n",
              "        text-align: right;\n",
              "    }\n",
              "</style>\n",
              "<table border=\"1\" class=\"dataframe\">\n",
              "  <thead>\n",
              "    <tr style=\"text-align: right;\">\n",
              "      <th></th>\n",
              "      <th>sepal_length</th>\n",
              "      <th>sepal_width</th>\n",
              "      <th>petal_length</th>\n",
              "      <th>petal_width</th>\n",
              "    </tr>\n",
              "  </thead>\n",
              "  <tbody>\n",
              "    <tr>\n",
              "      <th>15</th>\n",
              "      <td>False</td>\n",
              "      <td>True</td>\n",
              "      <td>False</td>\n",
              "      <td>False</td>\n",
              "    </tr>\n",
              "    <tr>\n",
              "      <th>32</th>\n",
              "      <td>False</td>\n",
              "      <td>True</td>\n",
              "      <td>False</td>\n",
              "      <td>False</td>\n",
              "    </tr>\n",
              "    <tr>\n",
              "      <th>33</th>\n",
              "      <td>False</td>\n",
              "      <td>True</td>\n",
              "      <td>False</td>\n",
              "      <td>False</td>\n",
              "    </tr>\n",
              "  </tbody>\n",
              "</table>\n",
              "</div>"
            ],
            "text/plain": [
              "    sepal_length  sepal_width  petal_length  petal_width\n",
              "15         False         True         False        False\n",
              "32         False         True         False        False\n",
              "33         False         True         False        False"
            ]
          },
          "metadata": {},
          "execution_count": 59
        }
      ]
    },
    {
      "cell_type": "code",
      "metadata": {
        "colab": {
          "base_uri": "https://localhost:8080/",
          "height": 81
        },
        "id": "fTAGi3-Sn3xs",
        "outputId": "69b70ddb-6209-4763-cd5c-03073f32e235"
      },
      "source": [
        "# Encontramos los outliers\n",
        "bool_index = dataset < lower_bound\n",
        "outliers = bool_index.sum(axis=1)\n",
        "bool_index2 = outliers > 0\n",
        "dataset.loc[bool_index2]"
      ],
      "execution_count": 60,
      "outputs": [
        {
          "output_type": "execute_result",
          "data": {
            "text/html": [
              "<div>\n",
              "<style scoped>\n",
              "    .dataframe tbody tr th:only-of-type {\n",
              "        vertical-align: middle;\n",
              "    }\n",
              "\n",
              "    .dataframe tbody tr th {\n",
              "        vertical-align: top;\n",
              "    }\n",
              "\n",
              "    .dataframe thead th {\n",
              "        text-align: right;\n",
              "    }\n",
              "</style>\n",
              "<table border=\"1\" class=\"dataframe\">\n",
              "  <thead>\n",
              "    <tr style=\"text-align: right;\">\n",
              "      <th></th>\n",
              "      <th>sepal_length</th>\n",
              "      <th>sepal_width</th>\n",
              "      <th>petal_length</th>\n",
              "      <th>petal_width</th>\n",
              "    </tr>\n",
              "  </thead>\n",
              "  <tbody>\n",
              "    <tr>\n",
              "      <th>60</th>\n",
              "      <td>5.0</td>\n",
              "      <td>2.0</td>\n",
              "      <td>3.5</td>\n",
              "      <td>1.0</td>\n",
              "    </tr>\n",
              "  </tbody>\n",
              "</table>\n",
              "</div>"
            ],
            "text/plain": [
              "    sepal_length  sepal_width  petal_length  petal_width\n",
              "60           5.0          2.0           3.5          1.0"
            ]
          },
          "metadata": {},
          "execution_count": 60
        }
      ]
    },
    {
      "cell_type": "code",
      "metadata": {
        "colab": {
          "base_uri": "https://localhost:8080/",
          "height": 81
        },
        "id": "96kWqTzzn8wz",
        "outputId": "d5515e64-aae3-4f55-ce7e-3478b40399c8"
      },
      "source": [
        "# Encontramos que variable produce el outlier\n",
        "bool_index.loc[bool_index2]"
      ],
      "execution_count": 61,
      "outputs": [
        {
          "output_type": "execute_result",
          "data": {
            "text/html": [
              "<div>\n",
              "<style scoped>\n",
              "    .dataframe tbody tr th:only-of-type {\n",
              "        vertical-align: middle;\n",
              "    }\n",
              "\n",
              "    .dataframe tbody tr th {\n",
              "        vertical-align: top;\n",
              "    }\n",
              "\n",
              "    .dataframe thead th {\n",
              "        text-align: right;\n",
              "    }\n",
              "</style>\n",
              "<table border=\"1\" class=\"dataframe\">\n",
              "  <thead>\n",
              "    <tr style=\"text-align: right;\">\n",
              "      <th></th>\n",
              "      <th>sepal_length</th>\n",
              "      <th>sepal_width</th>\n",
              "      <th>petal_length</th>\n",
              "      <th>petal_width</th>\n",
              "    </tr>\n",
              "  </thead>\n",
              "  <tbody>\n",
              "    <tr>\n",
              "      <th>60</th>\n",
              "      <td>False</td>\n",
              "      <td>True</td>\n",
              "      <td>False</td>\n",
              "      <td>False</td>\n",
              "    </tr>\n",
              "  </tbody>\n",
              "</table>\n",
              "</div>"
            ],
            "text/plain": [
              "    sepal_length  sepal_width  petal_length  petal_width\n",
              "60         False         True         False        False"
            ]
          },
          "metadata": {},
          "execution_count": 61
        }
      ]
    },
    {
      "cell_type": "markdown",
      "metadata": {
        "id": "qvjJdLGvnsOc"
      },
      "source": [
        "\n",
        "\n",
        "---\n",
        "\n",
        "\n",
        "\n",
        "# Ejercicio\n",
        "\n",
        "Calculad si existe algún outlier en el dataset penguins usando la regla intercuartil.\n",
        "\n",
        "\n",
        "\n",
        "---\n",
        "\n"
      ]
    },
    {
      "cell_type": "code",
      "metadata": {
        "id": "UZ8Jqz7vZRRx"
      },
      "source": [
        "# Tú código aquí"
      ],
      "execution_count": 141,
      "outputs": []
    },
    {
      "cell_type": "markdown",
      "metadata": {
        "id": "zZ3jgxcwVkok"
      },
      "source": [
        "\n",
        "\n",
        "---\n",
        "\n",
        "\n",
        "# Isolation Forest\n",
        "\n",
        "Los isolation forest son un algoritmo basadod en árboles de decisión que se utilizan para encontrar outliers. Están basados en árboles de decisión y en esencia se construyen de forma similar a un algoritmo de bagging (aunque existen discrepancias importantes). \n",
        "\n",
        "Intuitivamente este algoritmo se basa en el concepto de split para encontrar los outliers. Si os fijáis en la imagen, es posible interpretar que es necesario realizar menos splits para aislar un outlier que un punto \"normal\" en nuestros datos.\n",
        "\n",
        "![isolation_forest.PNG](data:image/png;base64,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)"
      ]
    },
    {
      "cell_type": "markdown",
      "metadata": {
        "id": "fyXr6MoTXRGI"
      },
      "source": [
        "La idea del algoritmo es realizar cuantos splits sea necesario para aislar todos los puntos. El algoritmo contabiliza este número de splits y aquellos que haya aislado con un menor número de splits serán considerados candidatos a ser outlier.\n",
        "\n",
        "\n",
        "\n",
        "---\n",
        "\n",
        "\n",
        "\n",
        "---\n",
        "\n"
      ]
    },
    {
      "cell_type": "code",
      "metadata": {
        "id": "1h_QvPYSXl7m"
      },
      "source": [
        "from sklearn.ensemble import IsolationForest"
      ],
      "execution_count": 133,
      "outputs": []
    },
    {
      "cell_type": "code",
      "metadata": {
        "colab": {
          "base_uri": "https://localhost:8080/"
        },
        "id": "sVT3N1sxXpJu",
        "outputId": "27f995ee-2778-4917-c3cb-7cf82efbf8bf"
      },
      "source": [
        "# Construímos el modelo con la clase de sklearn\n",
        "dataset = sns.load_dataset(\"iris\").iloc[:,:-1]\n",
        "iso_forest = IsolationForest(n_estimators=500)\n",
        "iso_forest.fit(dataset)"
      ],
      "execution_count": 136,
      "outputs": [
        {
          "output_type": "execute_result",
          "data": {
            "text/plain": [
              "IsolationForest(behaviour='deprecated', bootstrap=False, contamination='auto',\n",
              "                max_features=1.0, max_samples='auto', n_estimators=500,\n",
              "                n_jobs=None, random_state=None, verbose=0, warm_start=False)"
            ]
          },
          "metadata": {},
          "execution_count": 136
        }
      ]
    },
    {
      "cell_type": "code",
      "metadata": {
        "colab": {
          "base_uri": "https://localhost:8080/"
        },
        "id": "5Mov-PYIYIAK",
        "outputId": "9caf0a23-ff71-4a08-c7ec-0bd8cba9e02f"
      },
      "source": [
        "# Con el método predict obtenemos con un 1 que muestra ha sido elegida como outlier\n",
        "# y con un -1 cuales son normales\n",
        "iso_forest.predict(dataset)"
      ],
      "execution_count": 137,
      "outputs": [
        {
          "output_type": "execute_result",
          "data": {
            "text/plain": [
              "array([ 1,  1,  1,  1,  1, -1,  1,  1, -1,  1,  1,  1,  1, -1, -1, -1, -1,\n",
              "        1, -1,  1,  1,  1, -1, -1, -1,  1,  1,  1,  1,  1,  1,  1, -1, -1,\n",
              "        1,  1,  1,  1,  1,  1,  1, -1,  1, -1, -1,  1,  1,  1,  1,  1,  1,\n",
              "        1,  1,  1,  1,  1,  1, -1,  1,  1, -1,  1, -1,  1,  1,  1,  1,  1,\n",
              "       -1,  1,  1,  1,  1,  1,  1,  1,  1,  1,  1,  1,  1,  1,  1,  1,  1,\n",
              "        1,  1,  1,  1,  1,  1,  1,  1, -1,  1,  1,  1,  1, -1,  1, -1,  1,\n",
              "        1,  1,  1, -1, -1, -1, -1, -1,  1,  1,  1,  1, -1,  1,  1, -1, -1,\n",
              "       -1,  1,  1, -1,  1,  1,  1,  1,  1,  1,  1, -1, -1,  1,  1,  1, -1,\n",
              "       -1,  1,  1,  1,  1,  1,  1,  1, -1,  1,  1,  1, -1,  1])"
            ]
          },
          "metadata": {},
          "execution_count": 137
        }
      ]
    },
    {
      "cell_type": "code",
      "metadata": {
        "colab": {
          "base_uri": "https://localhost:8080/"
        },
        "id": "sjvD10DlYO1x",
        "outputId": "5b8c3e7d-c7df-419f-efde-ba406daca8a8"
      },
      "source": [
        "# Con el método score_samples obtenemos una puntuación para ccada una de las muestras\n",
        "# Más negativo significa que la muestra ha sido elegida como normal\n",
        "iso_forest.score_samples(dataset)"
      ],
      "execution_count": 139,
      "outputs": [
        {
          "output_type": "execute_result",
          "data": {
            "text/plain": [
              "array([-0.40853931, -0.42976229, -0.4401997 , -0.45285888, -0.41836908,\n",
              "       -0.50917674, -0.47711618, -0.40319272, -0.51689733, -0.4849371 ,\n",
              "       -0.44488918, -0.42753168, -0.48635356, -0.60896787, -0.57992676,\n",
              "       -0.6104762 , -0.52268029, -0.42868898, -0.53019754, -0.45316415,\n",
              "       -0.46548716, -0.4597282 , -0.55592813, -0.50719125, -0.50194893,\n",
              "       -0.44745465, -0.45196829, -0.4146531 , -0.41518832, -0.44140419,\n",
              "       -0.43648586, -0.4692314 , -0.55751429, -0.54350173, -0.42362194,\n",
              "       -0.46290446, -0.47418853, -0.4861464 , -0.49085707, -0.40604889,\n",
              "       -0.45229023, -0.61123255, -0.48824327, -0.52391937, -0.53016364,\n",
              "       -0.46465296, -0.45642042, -0.435484  , -0.43924581, -0.41188121,\n",
              "       -0.49387292, -0.43927323, -0.45475914, -0.47732787, -0.4218858 ,\n",
              "       -0.40821745, -0.45775654, -0.53206109, -0.43815982, -0.48829099,\n",
              "       -0.59752749, -0.4297084 , -0.53807382, -0.40535036, -0.45956122,\n",
              "       -0.450856  , -0.41924993, -0.46860723, -0.50244895, -0.45907686,\n",
              "       -0.44582648, -0.43029162, -0.44607723, -0.43640539, -0.42806447,\n",
              "       -0.43107436, -0.45184894, -0.43012698, -0.4042584 , -0.49305987,\n",
              "       -0.4765403 , -0.4873911 , -0.43597782, -0.43456969, -0.44144415,\n",
              "       -0.49273872, -0.43227839, -0.49258754, -0.42365338, -0.43600625,\n",
              "       -0.44712456, -0.40626815, -0.43683632, -0.52532347, -0.41538741,\n",
              "       -0.43582625, -0.40952247, -0.4194045 , -0.54103099, -0.4071009 ,\n",
              "       -0.54443128, -0.43568277, -0.46620602, -0.42847355, -0.45320893,\n",
              "       -0.54628023, -0.55098767, -0.52176706, -0.51374752, -0.61550262,\n",
              "       -0.44515333, -0.44271751, -0.43379283, -0.49412094, -0.50651027,\n",
              "       -0.45805508, -0.41877264, -0.63241984, -0.63314692, -0.51430501,\n",
              "       -0.46603379, -0.46332257, -0.56452455, -0.42455381, -0.4661018 ,\n",
              "       -0.4987799 , -0.4152063 , -0.40957219, -0.43997108, -0.4988541 ,\n",
              "       -0.51238163, -0.64794571, -0.45224425, -0.41793745, -0.48336091,\n",
              "       -0.54255309, -0.50996319, -0.42910713, -0.41125327, -0.45072065,\n",
              "       -0.46935877, -0.47423962, -0.43568277, -0.47514869, -0.51056399,\n",
              "       -0.45116747, -0.46070936, -0.42352274, -0.50815054, -0.41930808])"
            ]
          },
          "metadata": {},
          "execution_count": 139
        }
      ]
    },
    {
      "cell_type": "markdown",
      "metadata": {
        "id": "VKbr3cDsYthl"
      },
      "source": [
        "\n",
        "\n",
        "---\n",
        "\n",
        "\n",
        "\n",
        "---\n",
        "\n",
        "\n",
        "\n",
        "# Ejercicio\n",
        "\n",
        "Utiliza isolation forest para encontrar posibles outliers en el dataset de penguins\n",
        "\n",
        "\n",
        "\n",
        "---\n",
        "\n",
        "\n",
        "\n"
      ]
    },
    {
      "cell_type": "code",
      "metadata": {
        "id": "BycdYb7EYtBI"
      },
      "source": [
        "# Tú código aquí"
      ],
      "execution_count": 140,
      "outputs": []
    },
    {
      "cell_type": "markdown",
      "metadata": {
        "id": "CZq8tSUsvujD"
      },
      "source": [
        "\n",
        "\n",
        "---\n",
        "\n",
        "\n",
        "\n",
        "# Generación Series Temporales Con Pandas\n",
        "\n",
        "Cuando se trabaja con un índice que depende del tiempo es frecuente necesitar preprocesar los datos y realizar agrupaciones en una determinada frecuencia de tiempo.\n",
        "\n",
        "Realizar este ejercicio es muy sencillo utilizando pandas y el objeto Grouper. Las claves para introducir las frecuencias para la agrupación se pueden encontrar \n",
        "\n",
        "\n",
        "\n",
        "---\n",
        "\n"
      ]
    },
    {
      "cell_type": "code",
      "metadata": {
        "colab": {
          "base_uri": "https://localhost:8080/"
        },
        "id": "ny7fuehy50Ww",
        "outputId": "cff9438e-850a-4b59-98a5-7d767d6b5169"
      },
      "source": [
        "!wget https://archive.ics.uci.edu/ml/machine-learning-databases/00357/occupancy_data.zip\n",
        "!unzip occupancy_data.zip"
      ],
      "execution_count": 71,
      "outputs": [
        {
          "output_type": "stream",
          "name": "stdout",
          "text": [
            "--2021-11-04 12:23:37--  https://archive.ics.uci.edu/ml/machine-learning-databases/00357/occupancy_data.zip\n",
            "Resolving archive.ics.uci.edu (archive.ics.uci.edu)... 128.195.10.252\n",
            "Connecting to archive.ics.uci.edu (archive.ics.uci.edu)|128.195.10.252|:443... connected.\n",
            "HTTP request sent, awaiting response... 200 OK\n",
            "Length: 335713 (328K) [application/x-httpd-php]\n",
            "Saving to: ‘occupancy_data.zip.1’\n",
            "\n",
            "occupancy_data.zip. 100%[===================>] 327.84K   958KB/s    in 0.3s    \n",
            "\n",
            "2021-11-04 12:23:38 (958 KB/s) - ‘occupancy_data.zip.1’ saved [335713/335713]\n",
            "\n",
            "Archive:  occupancy_data.zip\n",
            "  inflating: datatest.txt            \n",
            "  inflating: datatest2.txt           \n",
            "  inflating: datatraining.txt        \n"
          ]
        }
      ]
    },
    {
      "cell_type": "code",
      "metadata": {
        "id": "FXj8TFXbwNjO",
        "colab": {
          "base_uri": "https://localhost:8080/",
          "height": 206
        },
        "outputId": "74903867-674d-40fc-d30c-c94392ba910b"
      },
      "source": [
        "dataset = pd.read_csv(\"./datatraining.txt\")\n",
        "dataset.head(5)"
      ],
      "execution_count": 81,
      "outputs": [
        {
          "output_type": "execute_result",
          "data": {
            "text/html": [
              "<div>\n",
              "<style scoped>\n",
              "    .dataframe tbody tr th:only-of-type {\n",
              "        vertical-align: middle;\n",
              "    }\n",
              "\n",
              "    .dataframe tbody tr th {\n",
              "        vertical-align: top;\n",
              "    }\n",
              "\n",
              "    .dataframe thead th {\n",
              "        text-align: right;\n",
              "    }\n",
              "</style>\n",
              "<table border=\"1\" class=\"dataframe\">\n",
              "  <thead>\n",
              "    <tr style=\"text-align: right;\">\n",
              "      <th></th>\n",
              "      <th>date</th>\n",
              "      <th>Temperature</th>\n",
              "      <th>Humidity</th>\n",
              "      <th>Light</th>\n",
              "      <th>CO2</th>\n",
              "      <th>HumidityRatio</th>\n",
              "      <th>Occupancy</th>\n",
              "    </tr>\n",
              "  </thead>\n",
              "  <tbody>\n",
              "    <tr>\n",
              "      <th>1</th>\n",
              "      <td>2015-02-04 17:51:00</td>\n",
              "      <td>23.18</td>\n",
              "      <td>27.2720</td>\n",
              "      <td>426.0</td>\n",
              "      <td>721.25</td>\n",
              "      <td>0.004793</td>\n",
              "      <td>1</td>\n",
              "    </tr>\n",
              "    <tr>\n",
              "      <th>2</th>\n",
              "      <td>2015-02-04 17:51:59</td>\n",
              "      <td>23.15</td>\n",
              "      <td>27.2675</td>\n",
              "      <td>429.5</td>\n",
              "      <td>714.00</td>\n",
              "      <td>0.004783</td>\n",
              "      <td>1</td>\n",
              "    </tr>\n",
              "    <tr>\n",
              "      <th>3</th>\n",
              "      <td>2015-02-04 17:53:00</td>\n",
              "      <td>23.15</td>\n",
              "      <td>27.2450</td>\n",
              "      <td>426.0</td>\n",
              "      <td>713.50</td>\n",
              "      <td>0.004779</td>\n",
              "      <td>1</td>\n",
              "    </tr>\n",
              "    <tr>\n",
              "      <th>4</th>\n",
              "      <td>2015-02-04 17:54:00</td>\n",
              "      <td>23.15</td>\n",
              "      <td>27.2000</td>\n",
              "      <td>426.0</td>\n",
              "      <td>708.25</td>\n",
              "      <td>0.004772</td>\n",
              "      <td>1</td>\n",
              "    </tr>\n",
              "    <tr>\n",
              "      <th>5</th>\n",
              "      <td>2015-02-04 17:55:00</td>\n",
              "      <td>23.10</td>\n",
              "      <td>27.2000</td>\n",
              "      <td>426.0</td>\n",
              "      <td>704.50</td>\n",
              "      <td>0.004757</td>\n",
              "      <td>1</td>\n",
              "    </tr>\n",
              "  </tbody>\n",
              "</table>\n",
              "</div>"
            ],
            "text/plain": [
              "                  date  Temperature  Humidity  ...     CO2  HumidityRatio  Occupancy\n",
              "1  2015-02-04 17:51:00        23.18   27.2720  ...  721.25       0.004793          1\n",
              "2  2015-02-04 17:51:59        23.15   27.2675  ...  714.00       0.004783          1\n",
              "3  2015-02-04 17:53:00        23.15   27.2450  ...  713.50       0.004779          1\n",
              "4  2015-02-04 17:54:00        23.15   27.2000  ...  708.25       0.004772          1\n",
              "5  2015-02-04 17:55:00        23.10   27.2000  ...  704.50       0.004757          1\n",
              "\n",
              "[5 rows x 7 columns]"
            ]
          },
          "metadata": {},
          "execution_count": 81
        }
      ]
    },
    {
      "cell_type": "code",
      "metadata": {
        "colab": {
          "base_uri": "https://localhost:8080/",
          "height": 454
        },
        "id": "FxoTYFmi6W8O",
        "outputId": "245520d1-5b22-4377-e74b-8037c442fdfb"
      },
      "source": [
        "dataset[\"date\"] = dataset[\"date\"].astype(\"datetime64[ns]\")\n",
        "dataset.set_index(\"date\")"
      ],
      "execution_count": 87,
      "outputs": [
        {
          "output_type": "execute_result",
          "data": {
            "text/html": [
              "<div>\n",
              "<style scoped>\n",
              "    .dataframe tbody tr th:only-of-type {\n",
              "        vertical-align: middle;\n",
              "    }\n",
              "\n",
              "    .dataframe tbody tr th {\n",
              "        vertical-align: top;\n",
              "    }\n",
              "\n",
              "    .dataframe thead th {\n",
              "        text-align: right;\n",
              "    }\n",
              "</style>\n",
              "<table border=\"1\" class=\"dataframe\">\n",
              "  <thead>\n",
              "    <tr style=\"text-align: right;\">\n",
              "      <th></th>\n",
              "      <th>Temperature</th>\n",
              "      <th>Humidity</th>\n",
              "      <th>Light</th>\n",
              "      <th>CO2</th>\n",
              "      <th>HumidityRatio</th>\n",
              "      <th>Occupancy</th>\n",
              "    </tr>\n",
              "    <tr>\n",
              "      <th>date</th>\n",
              "      <th></th>\n",
              "      <th></th>\n",
              "      <th></th>\n",
              "      <th></th>\n",
              "      <th></th>\n",
              "      <th></th>\n",
              "    </tr>\n",
              "  </thead>\n",
              "  <tbody>\n",
              "    <tr>\n",
              "      <th>2015-02-04 17:51:00</th>\n",
              "      <td>23.18</td>\n",
              "      <td>27.2720</td>\n",
              "      <td>426.0</td>\n",
              "      <td>721.250000</td>\n",
              "      <td>0.004793</td>\n",
              "      <td>1</td>\n",
              "    </tr>\n",
              "    <tr>\n",
              "      <th>2015-02-04 17:51:59</th>\n",
              "      <td>23.15</td>\n",
              "      <td>27.2675</td>\n",
              "      <td>429.5</td>\n",
              "      <td>714.000000</td>\n",
              "      <td>0.004783</td>\n",
              "      <td>1</td>\n",
              "    </tr>\n",
              "    <tr>\n",
              "      <th>2015-02-04 17:53:00</th>\n",
              "      <td>23.15</td>\n",
              "      <td>27.2450</td>\n",
              "      <td>426.0</td>\n",
              "      <td>713.500000</td>\n",
              "      <td>0.004779</td>\n",
              "      <td>1</td>\n",
              "    </tr>\n",
              "    <tr>\n",
              "      <th>2015-02-04 17:54:00</th>\n",
              "      <td>23.15</td>\n",
              "      <td>27.2000</td>\n",
              "      <td>426.0</td>\n",
              "      <td>708.250000</td>\n",
              "      <td>0.004772</td>\n",
              "      <td>1</td>\n",
              "    </tr>\n",
              "    <tr>\n",
              "      <th>2015-02-04 17:55:00</th>\n",
              "      <td>23.10</td>\n",
              "      <td>27.2000</td>\n",
              "      <td>426.0</td>\n",
              "      <td>704.500000</td>\n",
              "      <td>0.004757</td>\n",
              "      <td>1</td>\n",
              "    </tr>\n",
              "    <tr>\n",
              "      <th>...</th>\n",
              "      <td>...</td>\n",
              "      <td>...</td>\n",
              "      <td>...</td>\n",
              "      <td>...</td>\n",
              "      <td>...</td>\n",
              "      <td>...</td>\n",
              "    </tr>\n",
              "    <tr>\n",
              "      <th>2015-02-10 09:29:00</th>\n",
              "      <td>21.05</td>\n",
              "      <td>36.0975</td>\n",
              "      <td>433.0</td>\n",
              "      <td>787.250000</td>\n",
              "      <td>0.005579</td>\n",
              "      <td>1</td>\n",
              "    </tr>\n",
              "    <tr>\n",
              "      <th>2015-02-10 09:29:59</th>\n",
              "      <td>21.05</td>\n",
              "      <td>35.9950</td>\n",
              "      <td>433.0</td>\n",
              "      <td>789.500000</td>\n",
              "      <td>0.005563</td>\n",
              "      <td>1</td>\n",
              "    </tr>\n",
              "    <tr>\n",
              "      <th>2015-02-10 09:30:59</th>\n",
              "      <td>21.10</td>\n",
              "      <td>36.0950</td>\n",
              "      <td>433.0</td>\n",
              "      <td>798.500000</td>\n",
              "      <td>0.005596</td>\n",
              "      <td>1</td>\n",
              "    </tr>\n",
              "    <tr>\n",
              "      <th>2015-02-10 09:32:00</th>\n",
              "      <td>21.10</td>\n",
              "      <td>36.2600</td>\n",
              "      <td>433.0</td>\n",
              "      <td>820.333333</td>\n",
              "      <td>0.005621</td>\n",
              "      <td>1</td>\n",
              "    </tr>\n",
              "    <tr>\n",
              "      <th>2015-02-10 09:33:00</th>\n",
              "      <td>21.10</td>\n",
              "      <td>36.2000</td>\n",
              "      <td>447.0</td>\n",
              "      <td>821.000000</td>\n",
              "      <td>0.005612</td>\n",
              "      <td>1</td>\n",
              "    </tr>\n",
              "  </tbody>\n",
              "</table>\n",
              "<p>8143 rows × 6 columns</p>\n",
              "</div>"
            ],
            "text/plain": [
              "                     Temperature  Humidity  ...  HumidityRatio  Occupancy\n",
              "date                                        ...                          \n",
              "2015-02-04 17:51:00        23.18   27.2720  ...       0.004793          1\n",
              "2015-02-04 17:51:59        23.15   27.2675  ...       0.004783          1\n",
              "2015-02-04 17:53:00        23.15   27.2450  ...       0.004779          1\n",
              "2015-02-04 17:54:00        23.15   27.2000  ...       0.004772          1\n",
              "2015-02-04 17:55:00        23.10   27.2000  ...       0.004757          1\n",
              "...                          ...       ...  ...            ...        ...\n",
              "2015-02-10 09:29:00        21.05   36.0975  ...       0.005579          1\n",
              "2015-02-10 09:29:59        21.05   35.9950  ...       0.005563          1\n",
              "2015-02-10 09:30:59        21.10   36.0950  ...       0.005596          1\n",
              "2015-02-10 09:32:00        21.10   36.2600  ...       0.005621          1\n",
              "2015-02-10 09:33:00        21.10   36.2000  ...       0.005612          1\n",
              "\n",
              "[8143 rows x 6 columns]"
            ]
          },
          "metadata": {},
          "execution_count": 87
        }
      ]
    },
    {
      "cell_type": "code",
      "metadata": {
        "colab": {
          "base_uri": "https://localhost:8080/",
          "height": 454
        },
        "id": "xjZDNLw_65Af",
        "outputId": "9a209d7b-728d-44c7-b275-56fb35ff6be5"
      },
      "source": [
        "# Utilizamos pd.Grouper para operar con nuestra serie temporal\n",
        "grouper = pd.Grouper(key=\"date\", freq=\"2H\")\n",
        "group_df = dataset.groupby(grouper).mean()\n",
        "group_df"
      ],
      "execution_count": 88,
      "outputs": [
        {
          "output_type": "execute_result",
          "data": {
            "text/html": [
              "<div>\n",
              "<style scoped>\n",
              "    .dataframe tbody tr th:only-of-type {\n",
              "        vertical-align: middle;\n",
              "    }\n",
              "\n",
              "    .dataframe tbody tr th {\n",
              "        vertical-align: top;\n",
              "    }\n",
              "\n",
              "    .dataframe thead th {\n",
              "        text-align: right;\n",
              "    }\n",
              "</style>\n",
              "<table border=\"1\" class=\"dataframe\">\n",
              "  <thead>\n",
              "    <tr style=\"text-align: right;\">\n",
              "      <th></th>\n",
              "      <th>Temperature</th>\n",
              "      <th>Humidity</th>\n",
              "      <th>Light</th>\n",
              "      <th>CO2</th>\n",
              "      <th>HumidityRatio</th>\n",
              "      <th>Occupancy</th>\n",
              "    </tr>\n",
              "    <tr>\n",
              "      <th>date</th>\n",
              "      <th></th>\n",
              "      <th></th>\n",
              "      <th></th>\n",
              "      <th></th>\n",
              "      <th></th>\n",
              "      <th></th>\n",
              "    </tr>\n",
              "  </thead>\n",
              "  <tbody>\n",
              "    <tr>\n",
              "      <th>2015-02-04 16:00:00</th>\n",
              "      <td>23.125556</td>\n",
              "      <td>27.220500</td>\n",
              "      <td>423.277778</td>\n",
              "      <td>705.833333</td>\n",
              "      <td>0.004768</td>\n",
              "      <td>1.000000</td>\n",
              "    </tr>\n",
              "    <tr>\n",
              "      <th>2015-02-04 18:00:00</th>\n",
              "      <td>22.343471</td>\n",
              "      <td>27.283829</td>\n",
              "      <td>24.235537</td>\n",
              "      <td>613.719008</td>\n",
              "      <td>0.004557</td>\n",
              "      <td>0.057851</td>\n",
              "    </tr>\n",
              "    <tr>\n",
              "      <th>2015-02-04 20:00:00</th>\n",
              "      <td>21.577024</td>\n",
              "      <td>26.330098</td>\n",
              "      <td>0.000000</td>\n",
              "      <td>507.308824</td>\n",
              "      <td>0.004194</td>\n",
              "      <td>0.000000</td>\n",
              "    </tr>\n",
              "    <tr>\n",
              "      <th>2015-02-04 22:00:00</th>\n",
              "      <td>21.266861</td>\n",
              "      <td>25.557458</td>\n",
              "      <td>0.000000</td>\n",
              "      <td>471.651389</td>\n",
              "      <td>0.003993</td>\n",
              "      <td>0.000000</td>\n",
              "    </tr>\n",
              "    <tr>\n",
              "      <th>2015-02-05 00:00:00</th>\n",
              "      <td>21.179601</td>\n",
              "      <td>25.235923</td>\n",
              "      <td>0.000000</td>\n",
              "      <td>448.860193</td>\n",
              "      <td>0.003921</td>\n",
              "      <td>0.000000</td>\n",
              "    </tr>\n",
              "    <tr>\n",
              "      <th>...</th>\n",
              "      <td>...</td>\n",
              "      <td>...</td>\n",
              "      <td>...</td>\n",
              "      <td>...</td>\n",
              "      <td>...</td>\n",
              "      <td>...</td>\n",
              "    </tr>\n",
              "    <tr>\n",
              "      <th>2015-02-10 00:00:00</th>\n",
              "      <td>20.304862</td>\n",
              "      <td>32.958085</td>\n",
              "      <td>0.000000</td>\n",
              "      <td>477.277548</td>\n",
              "      <td>0.004859</td>\n",
              "      <td>0.000000</td>\n",
              "    </tr>\n",
              "    <tr>\n",
              "      <th>2015-02-10 02:00:00</th>\n",
              "      <td>20.254769</td>\n",
              "      <td>32.890721</td>\n",
              "      <td>0.000000</td>\n",
              "      <td>454.368347</td>\n",
              "      <td>0.004834</td>\n",
              "      <td>0.000000</td>\n",
              "    </tr>\n",
              "    <tr>\n",
              "      <th>2015-02-10 04:00:00</th>\n",
              "      <td>20.149583</td>\n",
              "      <td>32.997042</td>\n",
              "      <td>0.000000</td>\n",
              "      <td>446.868056</td>\n",
              "      <td>0.004818</td>\n",
              "      <td>0.000000</td>\n",
              "    </tr>\n",
              "    <tr>\n",
              "      <th>2015-02-10 06:00:00</th>\n",
              "      <td>20.222762</td>\n",
              "      <td>33.065083</td>\n",
              "      <td>0.000000</td>\n",
              "      <td>450.158402</td>\n",
              "      <td>0.004850</td>\n",
              "      <td>0.000000</td>\n",
              "    </tr>\n",
              "    <tr>\n",
              "      <th>2015-02-10 08:00:00</th>\n",
              "      <td>20.547110</td>\n",
              "      <td>34.018374</td>\n",
              "      <td>257.012545</td>\n",
              "      <td>543.375000</td>\n",
              "      <td>0.005097</td>\n",
              "      <td>0.580645</td>\n",
              "    </tr>\n",
              "  </tbody>\n",
              "</table>\n",
              "<p>69 rows × 6 columns</p>\n",
              "</div>"
            ],
            "text/plain": [
              "                     Temperature   Humidity  ...  HumidityRatio  Occupancy\n",
              "date                                         ...                          \n",
              "2015-02-04 16:00:00    23.125556  27.220500  ...       0.004768   1.000000\n",
              "2015-02-04 18:00:00    22.343471  27.283829  ...       0.004557   0.057851\n",
              "2015-02-04 20:00:00    21.577024  26.330098  ...       0.004194   0.000000\n",
              "2015-02-04 22:00:00    21.266861  25.557458  ...       0.003993   0.000000\n",
              "2015-02-05 00:00:00    21.179601  25.235923  ...       0.003921   0.000000\n",
              "...                          ...        ...  ...            ...        ...\n",
              "2015-02-10 00:00:00    20.304862  32.958085  ...       0.004859   0.000000\n",
              "2015-02-10 02:00:00    20.254769  32.890721  ...       0.004834   0.000000\n",
              "2015-02-10 04:00:00    20.149583  32.997042  ...       0.004818   0.000000\n",
              "2015-02-10 06:00:00    20.222762  33.065083  ...       0.004850   0.000000\n",
              "2015-02-10 08:00:00    20.547110  34.018374  ...       0.005097   0.580645\n",
              "\n",
              "[69 rows x 6 columns]"
            ]
          },
          "metadata": {},
          "execution_count": 88
        }
      ]
    },
    {
      "cell_type": "markdown",
      "metadata": {
        "id": "RmYpSSyH-oHu"
      },
      "source": [
        "\n",
        "\n",
        "---\n",
        "\n",
        "\n",
        "\n",
        "# Ejercicio \n",
        "\n",
        "Realiza una agrupación con el dataset previo cada 2 días y cada mes\n",
        "\n",
        "\n",
        "\n",
        "---\n",
        "\n"
      ]
    },
    {
      "cell_type": "code",
      "metadata": {
        "id": "5g-gMGqfZgtz"
      },
      "source": [
        "# Tu código aquí"
      ],
      "execution_count": 142,
      "outputs": []
    },
    {
      "cell_type": "markdown",
      "metadata": {
        "id": "nyPl_2gMwOI0"
      },
      "source": [
        "\n",
        "\n",
        "---\n",
        "\n",
        "\n",
        "\n",
        "# Selección de Características\n",
        "\n",
        "Los algoritmos de selección de características permiten hacer una selección previa de las features que se utilizarán en el modelo. Existen diversos métodos y están basados en diferentes conceptos y perspectivas:\n",
        "\n",
        "- Filter based: Métodos que utilizan una métrica para filtrar las características.\n",
        "\n",
        "- Wrapper based: Estos métodos convierten el problema de selección de características en un problema de búsqueda.\n",
        "\n",
        "- Embbeded based: Estos métodos integran el problema de selección de características en el propio algoritmo que se pretende entrenar para la tarea seleccionada.\n",
        "\n",
        "En este seminario vamos a estudiar los métodos filter based para seleccionar características:\n",
        "\n",
        "- Correlation Method: En este método se descartan las variables en función de su correlación. Si dos variables están altamente correladas se descarta una de ellas. La intuición tras el método se encuentra en que si dos variables están altamente correladas es posible predecir una a partir de la otra y no aporta información útil.\n",
        "- Variation Method: En este método se descartan variables en función de un valor indicado por el usuario de la varianza de una variable. La intuición tras el método se encuentra en que las variables con una baja varianza se encuentran muy agrupadas en torno a un valor fijo y por lo tanto aportarían poca información útil.\n",
        "\n",
        "Y un método wrapper based:\n",
        "\n",
        "- Recursive Feature Estimation: En este método se realiza una selección de características previas (se elige un subconjunto de las mismas) y se realiza un entrenamiento. Mediante este método es posible probar subconjuntos de características y evaluar el resultado del modelo y seleccionar el subconjunto más optimo (se trata de un bucle for, es computacionalmente costoso).\n",
        "\n",
        "\n",
        "\n",
        "---\n",
        "\n"
      ]
    },
    {
      "cell_type": "code",
      "metadata": {
        "id": "ck7NAKzhOz3f"
      },
      "source": [
        "from sklearn.feature_selection import RFE\n",
        "from sklearn.tree import DecisionTreeClassifier\n",
        "from sklearn.utils.validation import check_is_fitted"
      ],
      "execution_count": 126,
      "outputs": []
    },
    {
      "cell_type": "code",
      "metadata": {
        "id": "Y_hQf7WywUvu"
      },
      "source": [
        "dataset = sns.load_dataset(\"iris\").iloc[:,:-1]"
      ],
      "execution_count": 96,
      "outputs": []
    },
    {
      "cell_type": "code",
      "metadata": {
        "colab": {
          "base_uri": "https://localhost:8080/",
          "height": 174
        },
        "id": "24ODRV_SMD9W",
        "outputId": "964b1767-8979-462a-d48b-27eb8e69a699"
      },
      "source": [
        "# En este ejemplo aplicando el método de la correlación\n",
        "# Elegimos eliminar o petal_width o petal_length\n",
        "# También se podría considerar eliminar sepal_length\n",
        "dataset.corr()"
      ],
      "execution_count": 98,
      "outputs": [
        {
          "output_type": "execute_result",
          "data": {
            "text/html": [
              "<div>\n",
              "<style scoped>\n",
              "    .dataframe tbody tr th:only-of-type {\n",
              "        vertical-align: middle;\n",
              "    }\n",
              "\n",
              "    .dataframe tbody tr th {\n",
              "        vertical-align: top;\n",
              "    }\n",
              "\n",
              "    .dataframe thead th {\n",
              "        text-align: right;\n",
              "    }\n",
              "</style>\n",
              "<table border=\"1\" class=\"dataframe\">\n",
              "  <thead>\n",
              "    <tr style=\"text-align: right;\">\n",
              "      <th></th>\n",
              "      <th>sepal_length</th>\n",
              "      <th>sepal_width</th>\n",
              "      <th>petal_length</th>\n",
              "      <th>petal_width</th>\n",
              "    </tr>\n",
              "  </thead>\n",
              "  <tbody>\n",
              "    <tr>\n",
              "      <th>sepal_length</th>\n",
              "      <td>1.000000</td>\n",
              "      <td>-0.117570</td>\n",
              "      <td>0.871754</td>\n",
              "      <td>0.817941</td>\n",
              "    </tr>\n",
              "    <tr>\n",
              "      <th>sepal_width</th>\n",
              "      <td>-0.117570</td>\n",
              "      <td>1.000000</td>\n",
              "      <td>-0.428440</td>\n",
              "      <td>-0.366126</td>\n",
              "    </tr>\n",
              "    <tr>\n",
              "      <th>petal_length</th>\n",
              "      <td>0.871754</td>\n",
              "      <td>-0.428440</td>\n",
              "      <td>1.000000</td>\n",
              "      <td>0.962865</td>\n",
              "    </tr>\n",
              "    <tr>\n",
              "      <th>petal_width</th>\n",
              "      <td>0.817941</td>\n",
              "      <td>-0.366126</td>\n",
              "      <td>0.962865</td>\n",
              "      <td>1.000000</td>\n",
              "    </tr>\n",
              "  </tbody>\n",
              "</table>\n",
              "</div>"
            ],
            "text/plain": [
              "              sepal_length  sepal_width  petal_length  petal_width\n",
              "sepal_length      1.000000    -0.117570      0.871754     0.817941\n",
              "sepal_width      -0.117570     1.000000     -0.428440    -0.366126\n",
              "petal_length      0.871754    -0.428440      1.000000     0.962865\n",
              "petal_width       0.817941    -0.366126      0.962865     1.000000"
            ]
          },
          "metadata": {},
          "execution_count": 98
        }
      ]
    },
    {
      "cell_type": "code",
      "metadata": {
        "colab": {
          "base_uri": "https://localhost:8080/",
          "height": 423
        },
        "id": "rOzYXqXpNMj5",
        "outputId": "f4cb9ba8-eac6-41a6-ba93-b549d0792ffa"
      },
      "source": [
        "dataset.drop(labels=[\"petal_length\"], axis=1)"
      ],
      "execution_count": 99,
      "outputs": [
        {
          "output_type": "execute_result",
          "data": {
            "text/html": [
              "<div>\n",
              "<style scoped>\n",
              "    .dataframe tbody tr th:only-of-type {\n",
              "        vertical-align: middle;\n",
              "    }\n",
              "\n",
              "    .dataframe tbody tr th {\n",
              "        vertical-align: top;\n",
              "    }\n",
              "\n",
              "    .dataframe thead th {\n",
              "        text-align: right;\n",
              "    }\n",
              "</style>\n",
              "<table border=\"1\" class=\"dataframe\">\n",
              "  <thead>\n",
              "    <tr style=\"text-align: right;\">\n",
              "      <th></th>\n",
              "      <th>sepal_length</th>\n",
              "      <th>sepal_width</th>\n",
              "      <th>petal_width</th>\n",
              "    </tr>\n",
              "  </thead>\n",
              "  <tbody>\n",
              "    <tr>\n",
              "      <th>0</th>\n",
              "      <td>5.1</td>\n",
              "      <td>3.5</td>\n",
              "      <td>0.2</td>\n",
              "    </tr>\n",
              "    <tr>\n",
              "      <th>1</th>\n",
              "      <td>4.9</td>\n",
              "      <td>3.0</td>\n",
              "      <td>0.2</td>\n",
              "    </tr>\n",
              "    <tr>\n",
              "      <th>2</th>\n",
              "      <td>4.7</td>\n",
              "      <td>3.2</td>\n",
              "      <td>0.2</td>\n",
              "    </tr>\n",
              "    <tr>\n",
              "      <th>3</th>\n",
              "      <td>4.6</td>\n",
              "      <td>3.1</td>\n",
              "      <td>0.2</td>\n",
              "    </tr>\n",
              "    <tr>\n",
              "      <th>4</th>\n",
              "      <td>5.0</td>\n",
              "      <td>3.6</td>\n",
              "      <td>0.2</td>\n",
              "    </tr>\n",
              "    <tr>\n",
              "      <th>...</th>\n",
              "      <td>...</td>\n",
              "      <td>...</td>\n",
              "      <td>...</td>\n",
              "    </tr>\n",
              "    <tr>\n",
              "      <th>145</th>\n",
              "      <td>6.7</td>\n",
              "      <td>3.0</td>\n",
              "      <td>2.3</td>\n",
              "    </tr>\n",
              "    <tr>\n",
              "      <th>146</th>\n",
              "      <td>6.3</td>\n",
              "      <td>2.5</td>\n",
              "      <td>1.9</td>\n",
              "    </tr>\n",
              "    <tr>\n",
              "      <th>147</th>\n",
              "      <td>6.5</td>\n",
              "      <td>3.0</td>\n",
              "      <td>2.0</td>\n",
              "    </tr>\n",
              "    <tr>\n",
              "      <th>148</th>\n",
              "      <td>6.2</td>\n",
              "      <td>3.4</td>\n",
              "      <td>2.3</td>\n",
              "    </tr>\n",
              "    <tr>\n",
              "      <th>149</th>\n",
              "      <td>5.9</td>\n",
              "      <td>3.0</td>\n",
              "      <td>1.8</td>\n",
              "    </tr>\n",
              "  </tbody>\n",
              "</table>\n",
              "<p>150 rows × 3 columns</p>\n",
              "</div>"
            ],
            "text/plain": [
              "     sepal_length  sepal_width  petal_width\n",
              "0             5.1          3.5          0.2\n",
              "1             4.9          3.0          0.2\n",
              "2             4.7          3.2          0.2\n",
              "3             4.6          3.1          0.2\n",
              "4             5.0          3.6          0.2\n",
              "..            ...          ...          ...\n",
              "145           6.7          3.0          2.3\n",
              "146           6.3          2.5          1.9\n",
              "147           6.5          3.0          2.0\n",
              "148           6.2          3.4          2.3\n",
              "149           5.9          3.0          1.8\n",
              "\n",
              "[150 rows x 3 columns]"
            ]
          },
          "metadata": {},
          "execution_count": 99
        }
      ]
    },
    {
      "cell_type": "code",
      "metadata": {
        "colab": {
          "base_uri": "https://localhost:8080/"
        },
        "id": "vPuNeVBAMbol",
        "outputId": "e74039fd-8ad3-4bd3-9418-1a739ed20952"
      },
      "source": [
        "# Para aplicar el método de la varianza es necesario primero\n",
        "# normalizar los datos para evitar que la escala\n",
        "# En este caso elegimos eliminar la variable petal_length\n",
        "# Pues su dispersión es mínima con respecto al resto y además\n",
        "# está correlada\n",
        "min_max_scl = MinMaxScaler()\n",
        "X_transformed = min_max_scl.fit_transform(dataset)\n",
        "X_transformed_df = pd.DataFrame(X_transformed, columns=dataset.columns)\n",
        "X_transformed_df.var()"
      ],
      "execution_count": 102,
      "outputs": [
        {
          "output_type": "execute_result",
          "data": {
            "text/plain": [
              "sepal_length    0.052908\n",
              "sepal_width     0.032983\n",
              "petal_length    0.089522\n",
              "petal_width     0.100869\n",
              "dtype: float64"
            ]
          },
          "metadata": {},
          "execution_count": 102
        }
      ]
    },
    {
      "cell_type": "code",
      "metadata": {
        "id": "eOItqeptMqP9"
      },
      "source": [
        "# Para aplicar RFE utilizamos la clase implementada en sklearn\n",
        "dataset = sns.load_dataset(\"iris\")\n",
        "X = dataset.iloc[:,:-1]\n",
        "Y = dataset.iloc[:,-1]\n",
        "estimator = DecisionTreeClassifier(max_depth=5)\n",
        "rfe_estimator = RFE(estimator=estimator, n_features_to_select=2)"
      ],
      "execution_count": 128,
      "outputs": []
    },
    {
      "cell_type": "code",
      "metadata": {
        "colab": {
          "base_uri": "https://localhost:8080/"
        },
        "id": "LBnfHKt1Rd3O",
        "outputId": "2968b3e1-bf07-4983-9f97-53fadc80ae45"
      },
      "source": [
        "rfe_estimator.fit(X, Y)"
      ],
      "execution_count": 129,
      "outputs": [
        {
          "output_type": "execute_result",
          "data": {
            "text/plain": [
              "RFE(estimator=DecisionTreeClassifier(ccp_alpha=0.0, class_weight=None,\n",
              "                                     criterion='gini', max_depth=5,\n",
              "                                     max_features=None, max_leaf_nodes=None,\n",
              "                                     min_impurity_decrease=0.0,\n",
              "                                     min_impurity_split=None,\n",
              "                                     min_samples_leaf=1, min_samples_split=2,\n",
              "                                     min_weight_fraction_leaf=0.0,\n",
              "                                     presort='deprecated', random_state=None,\n",
              "                                     splitter='best'),\n",
              "    n_features_to_select=2, step=1, verbose=0)"
            ]
          },
          "metadata": {},
          "execution_count": 129
        }
      ]
    },
    {
      "cell_type": "code",
      "metadata": {
        "colab": {
          "base_uri": "https://localhost:8080/"
        },
        "id": "FC5X45vyRnXG",
        "outputId": "b05b2471-f7ea-4d31-81d8-b2a639890d81"
      },
      "source": [
        "# Con el atributo support podemos ver que características ha seleccionado el algoritmo\n",
        "rfe_estimator.support_"
      ],
      "execution_count": 130,
      "outputs": [
        {
          "output_type": "execute_result",
          "data": {
            "text/plain": [
              "array([False, False,  True,  True])"
            ]
          },
          "metadata": {},
          "execution_count": 130
        }
      ]
    },
    {
      "cell_type": "code",
      "metadata": {
        "colab": {
          "base_uri": "https://localhost:8080/"
        },
        "id": "o47CmQKRSnDW",
        "outputId": "a8276d7c-aedb-4fb6-c860-4b85529351ae"
      },
      "source": [
        "# Con el atributo ranking podemos ver que importancia ha dado a cada característica\n",
        "rfe_estimator.ranking_"
      ],
      "execution_count": 131,
      "outputs": [
        {
          "output_type": "execute_result",
          "data": {
            "text/plain": [
              "array([3, 2, 1, 1])"
            ]
          },
          "metadata": {},
          "execution_count": 131
        }
      ]
    },
    {
      "cell_type": "markdown",
      "metadata": {
        "id": "XHB0wauuUdCP"
      },
      "source": [
        "Tras realizar el ejercicio es necesario entrenar el algoritmo con el nuevo dataset puesto que la clase RFE no devuelve el algoritmo entrenado."
      ]
    },
    {
      "cell_type": "markdown",
      "metadata": {
        "id": "5s_c5OunUrxG"
      },
      "source": [
        "\n",
        "\n",
        "---\n",
        "\n",
        "\n",
        "\n",
        "---\n",
        "\n",
        "\n",
        "\n",
        "# Ejercicio\n",
        "\n",
        "Aplica los métodos de feature selection que creas conveniente al dataset de penguins y tras esto entrena un algoritmo. Compara el resultado con un modelo sin haber usado feature selection.\n",
        "\n",
        "\n",
        "---\n",
        "\n"
      ]
    },
    {
      "cell_type": "code",
      "metadata": {
        "id": "0ZOTEVpAUIH2"
      },
      "source": [
        ""
      ],
      "execution_count": null,
      "outputs": []
    }
  ]
}