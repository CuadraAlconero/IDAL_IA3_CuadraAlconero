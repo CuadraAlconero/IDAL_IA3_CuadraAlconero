{
  "nbformat": 4,
  "nbformat_minor": 0,
  "metadata": {
    "colab": {
      "name": "Preprocess_data.ipynb",
      "provenance": [],
      "authorship_tag": "ABX9TyO4jM68wpTQ1ozsj5yglguM",
      "include_colab_link": true
    },
    "kernelspec": {
      "name": "python3",
      "display_name": "Python 3"
    },
    "language_info": {
      "name": "python"
    }
  },
  "cells": [
    {
      "cell_type": "markdown",
      "metadata": {
        "id": "view-in-github",
        "colab_type": "text"
      },
      "source": [
        "<a href=\"https://colab.research.google.com/github/CuadraAlconero/IDAL_IA3_CuadraAlconero/blob/main/Preprocess_data.ipynb\" target=\"_parent\"><img src=\"https://colab.research.google.com/assets/colab-badge.svg\" alt=\"Open In Colab\"/></a>"
      ]
    },
    {
      "cell_type": "markdown",
      "metadata": {
        "id": "ktzpIbiAvq_I"
      },
      "source": [
        "\n",
        "\n",
        "---\n",
        "\n",
        "\n",
        "\n",
        "---\n",
        "\n",
        "\n",
        "\n",
        "# Normalización\n",
        "\n",
        "Se conoce como normalización a los procesos que utilizando conceptos estadísticos permiten representar un conjunto de características en una misma escala. Existen diversos tipos de normalización:\n",
        "\n",
        "- Min-Max Scaling: Proceso en el cual se utilizan los valores máximos y mínimos de la variable para representarla en una escala entre 0 y 1. Generalmente tiene sentido aplicar esta técnica cuando los datos no siguen una distribución determinada.\n",
        "\n",
        "- Standarization: Proceso en el cual se utiliza la media y la desviación estandar de la variable para centrar los valores en una escala entre -1 y 1.  Generalmente tiene sentido aplicar esta técnica cuando los datos siguen una distribución Gaussiana (normal).\n",
        "\n",
        "Veamos como se aplica esta técnica utilizando sklearn.\n",
        "\n",
        "\n",
        "\n",
        "---\n",
        "\n",
        "\n",
        "\n",
        "\n",
        "\n",
        "\n",
        "\n"
      ]
    },
    {
      "cell_type": "code",
      "metadata": {
        "id": "SqrUZF9YvsGk"
      },
      "source": [
        "import seaborn as sns\n",
        "import pandas as pd\n",
        "from sklearn.preprocessing import StandardScaler\n",
        "from sklearn.preprocessing import MinMaxScaler"
      ],
      "execution_count": 1,
      "outputs": []
    },
    {
      "cell_type": "code",
      "metadata": {
        "id": "-rch-OVYLNAL"
      },
      "source": [
        "dataset = sns.load_dataset(\"iris\")"
      ],
      "execution_count": 2,
      "outputs": []
    },
    {
      "cell_type": "code",
      "metadata": {
        "colab": {
          "base_uri": "https://localhost:8080/",
          "height": 361
        },
        "id": "lSHScTmVLQ8H",
        "outputId": "c868c9b1-879e-4ed3-9217-ac82d76fbd04"
      },
      "source": [
        "dataset.head(10)"
      ],
      "execution_count": 3,
      "outputs": [
        {
          "output_type": "execute_result",
          "data": {
            "text/html": [
              "<div>\n",
              "<style scoped>\n",
              "    .dataframe tbody tr th:only-of-type {\n",
              "        vertical-align: middle;\n",
              "    }\n",
              "\n",
              "    .dataframe tbody tr th {\n",
              "        vertical-align: top;\n",
              "    }\n",
              "\n",
              "    .dataframe thead th {\n",
              "        text-align: right;\n",
              "    }\n",
              "</style>\n",
              "<table border=\"1\" class=\"dataframe\">\n",
              "  <thead>\n",
              "    <tr style=\"text-align: right;\">\n",
              "      <th></th>\n",
              "      <th>sepal_length</th>\n",
              "      <th>sepal_width</th>\n",
              "      <th>petal_length</th>\n",
              "      <th>petal_width</th>\n",
              "      <th>species</th>\n",
              "    </tr>\n",
              "  </thead>\n",
              "  <tbody>\n",
              "    <tr>\n",
              "      <th>0</th>\n",
              "      <td>5.1</td>\n",
              "      <td>3.5</td>\n",
              "      <td>1.4</td>\n",
              "      <td>0.2</td>\n",
              "      <td>setosa</td>\n",
              "    </tr>\n",
              "    <tr>\n",
              "      <th>1</th>\n",
              "      <td>4.9</td>\n",
              "      <td>3.0</td>\n",
              "      <td>1.4</td>\n",
              "      <td>0.2</td>\n",
              "      <td>setosa</td>\n",
              "    </tr>\n",
              "    <tr>\n",
              "      <th>2</th>\n",
              "      <td>4.7</td>\n",
              "      <td>3.2</td>\n",
              "      <td>1.3</td>\n",
              "      <td>0.2</td>\n",
              "      <td>setosa</td>\n",
              "    </tr>\n",
              "    <tr>\n",
              "      <th>3</th>\n",
              "      <td>4.6</td>\n",
              "      <td>3.1</td>\n",
              "      <td>1.5</td>\n",
              "      <td>0.2</td>\n",
              "      <td>setosa</td>\n",
              "    </tr>\n",
              "    <tr>\n",
              "      <th>4</th>\n",
              "      <td>5.0</td>\n",
              "      <td>3.6</td>\n",
              "      <td>1.4</td>\n",
              "      <td>0.2</td>\n",
              "      <td>setosa</td>\n",
              "    </tr>\n",
              "    <tr>\n",
              "      <th>5</th>\n",
              "      <td>5.4</td>\n",
              "      <td>3.9</td>\n",
              "      <td>1.7</td>\n",
              "      <td>0.4</td>\n",
              "      <td>setosa</td>\n",
              "    </tr>\n",
              "    <tr>\n",
              "      <th>6</th>\n",
              "      <td>4.6</td>\n",
              "      <td>3.4</td>\n",
              "      <td>1.4</td>\n",
              "      <td>0.3</td>\n",
              "      <td>setosa</td>\n",
              "    </tr>\n",
              "    <tr>\n",
              "      <th>7</th>\n",
              "      <td>5.0</td>\n",
              "      <td>3.4</td>\n",
              "      <td>1.5</td>\n",
              "      <td>0.2</td>\n",
              "      <td>setosa</td>\n",
              "    </tr>\n",
              "    <tr>\n",
              "      <th>8</th>\n",
              "      <td>4.4</td>\n",
              "      <td>2.9</td>\n",
              "      <td>1.4</td>\n",
              "      <td>0.2</td>\n",
              "      <td>setosa</td>\n",
              "    </tr>\n",
              "    <tr>\n",
              "      <th>9</th>\n",
              "      <td>4.9</td>\n",
              "      <td>3.1</td>\n",
              "      <td>1.5</td>\n",
              "      <td>0.1</td>\n",
              "      <td>setosa</td>\n",
              "    </tr>\n",
              "  </tbody>\n",
              "</table>\n",
              "</div>"
            ],
            "text/plain": [
              "   sepal_length  sepal_width  petal_length  petal_width species\n",
              "0           5.1          3.5           1.4          0.2  setosa\n",
              "1           4.9          3.0           1.4          0.2  setosa\n",
              "2           4.7          3.2           1.3          0.2  setosa\n",
              "3           4.6          3.1           1.5          0.2  setosa\n",
              "4           5.0          3.6           1.4          0.2  setosa\n",
              "5           5.4          3.9           1.7          0.4  setosa\n",
              "6           4.6          3.4           1.4          0.3  setosa\n",
              "7           5.0          3.4           1.5          0.2  setosa\n",
              "8           4.4          2.9           1.4          0.2  setosa\n",
              "9           4.9          3.1           1.5          0.1  setosa"
            ]
          },
          "metadata": {},
          "execution_count": 3
        }
      ]
    },
    {
      "cell_type": "code",
      "metadata": {
        "colab": {
          "base_uri": "https://localhost:8080/",
          "height": 205
        },
        "id": "ZVK7kO3PLXRQ",
        "outputId": "007bd063-a73e-4c12-a80a-bfd5a63eb6ec"
      },
      "source": [
        "# Standarization\n",
        "X = dataset.iloc[:,:-1]\n",
        "std_scl = StandardScaler()\n",
        "X_transformed = std_scl.fit_transform(X)\n",
        "X_transformed_df = pd.DataFrame(X_transformed)\n",
        "X_transformed_df.head(5)"
      ],
      "execution_count": 4,
      "outputs": [
        {
          "output_type": "execute_result",
          "data": {
            "text/html": [
              "<div>\n",
              "<style scoped>\n",
              "    .dataframe tbody tr th:only-of-type {\n",
              "        vertical-align: middle;\n",
              "    }\n",
              "\n",
              "    .dataframe tbody tr th {\n",
              "        vertical-align: top;\n",
              "    }\n",
              "\n",
              "    .dataframe thead th {\n",
              "        text-align: right;\n",
              "    }\n",
              "</style>\n",
              "<table border=\"1\" class=\"dataframe\">\n",
              "  <thead>\n",
              "    <tr style=\"text-align: right;\">\n",
              "      <th></th>\n",
              "      <th>0</th>\n",
              "      <th>1</th>\n",
              "      <th>2</th>\n",
              "      <th>3</th>\n",
              "    </tr>\n",
              "  </thead>\n",
              "  <tbody>\n",
              "    <tr>\n",
              "      <th>0</th>\n",
              "      <td>-0.900681</td>\n",
              "      <td>1.019004</td>\n",
              "      <td>-1.340227</td>\n",
              "      <td>-1.315444</td>\n",
              "    </tr>\n",
              "    <tr>\n",
              "      <th>1</th>\n",
              "      <td>-1.143017</td>\n",
              "      <td>-0.131979</td>\n",
              "      <td>-1.340227</td>\n",
              "      <td>-1.315444</td>\n",
              "    </tr>\n",
              "    <tr>\n",
              "      <th>2</th>\n",
              "      <td>-1.385353</td>\n",
              "      <td>0.328414</td>\n",
              "      <td>-1.397064</td>\n",
              "      <td>-1.315444</td>\n",
              "    </tr>\n",
              "    <tr>\n",
              "      <th>3</th>\n",
              "      <td>-1.506521</td>\n",
              "      <td>0.098217</td>\n",
              "      <td>-1.283389</td>\n",
              "      <td>-1.315444</td>\n",
              "    </tr>\n",
              "    <tr>\n",
              "      <th>4</th>\n",
              "      <td>-1.021849</td>\n",
              "      <td>1.249201</td>\n",
              "      <td>-1.340227</td>\n",
              "      <td>-1.315444</td>\n",
              "    </tr>\n",
              "  </tbody>\n",
              "</table>\n",
              "</div>"
            ],
            "text/plain": [
              "          0         1         2         3\n",
              "0 -0.900681  1.019004 -1.340227 -1.315444\n",
              "1 -1.143017 -0.131979 -1.340227 -1.315444\n",
              "2 -1.385353  0.328414 -1.397064 -1.315444\n",
              "3 -1.506521  0.098217 -1.283389 -1.315444\n",
              "4 -1.021849  1.249201 -1.340227 -1.315444"
            ]
          },
          "metadata": {},
          "execution_count": 4
        }
      ]
    },
    {
      "cell_type": "code",
      "metadata": {
        "colab": {
          "base_uri": "https://localhost:8080/",
          "height": 205
        },
        "id": "Bx_1sxKYMOrH",
        "outputId": "f684eda6-8574-4b1f-9a5e-4a21795928e0"
      },
      "source": [
        "# Min-Max Scaling\n",
        "min_max_scl = MinMaxScaler()\n",
        "X_transformed = min_max_scl.fit_transform(X)\n",
        "X_transformed_df = pd.DataFrame(X_transformed)\n",
        "X_transformed_df.head(5)"
      ],
      "execution_count": 5,
      "outputs": [
        {
          "output_type": "execute_result",
          "data": {
            "text/html": [
              "<div>\n",
              "<style scoped>\n",
              "    .dataframe tbody tr th:only-of-type {\n",
              "        vertical-align: middle;\n",
              "    }\n",
              "\n",
              "    .dataframe tbody tr th {\n",
              "        vertical-align: top;\n",
              "    }\n",
              "\n",
              "    .dataframe thead th {\n",
              "        text-align: right;\n",
              "    }\n",
              "</style>\n",
              "<table border=\"1\" class=\"dataframe\">\n",
              "  <thead>\n",
              "    <tr style=\"text-align: right;\">\n",
              "      <th></th>\n",
              "      <th>0</th>\n",
              "      <th>1</th>\n",
              "      <th>2</th>\n",
              "      <th>3</th>\n",
              "    </tr>\n",
              "  </thead>\n",
              "  <tbody>\n",
              "    <tr>\n",
              "      <th>0</th>\n",
              "      <td>0.222222</td>\n",
              "      <td>0.625000</td>\n",
              "      <td>0.067797</td>\n",
              "      <td>0.041667</td>\n",
              "    </tr>\n",
              "    <tr>\n",
              "      <th>1</th>\n",
              "      <td>0.166667</td>\n",
              "      <td>0.416667</td>\n",
              "      <td>0.067797</td>\n",
              "      <td>0.041667</td>\n",
              "    </tr>\n",
              "    <tr>\n",
              "      <th>2</th>\n",
              "      <td>0.111111</td>\n",
              "      <td>0.500000</td>\n",
              "      <td>0.050847</td>\n",
              "      <td>0.041667</td>\n",
              "    </tr>\n",
              "    <tr>\n",
              "      <th>3</th>\n",
              "      <td>0.083333</td>\n",
              "      <td>0.458333</td>\n",
              "      <td>0.084746</td>\n",
              "      <td>0.041667</td>\n",
              "    </tr>\n",
              "    <tr>\n",
              "      <th>4</th>\n",
              "      <td>0.194444</td>\n",
              "      <td>0.666667</td>\n",
              "      <td>0.067797</td>\n",
              "      <td>0.041667</td>\n",
              "    </tr>\n",
              "  </tbody>\n",
              "</table>\n",
              "</div>"
            ],
            "text/plain": [
              "          0         1         2         3\n",
              "0  0.222222  0.625000  0.067797  0.041667\n",
              "1  0.166667  0.416667  0.067797  0.041667\n",
              "2  0.111111  0.500000  0.050847  0.041667\n",
              "3  0.083333  0.458333  0.084746  0.041667\n",
              "4  0.194444  0.666667  0.067797  0.041667"
            ]
          },
          "metadata": {},
          "execution_count": 5
        }
      ]
    },
    {
      "cell_type": "markdown",
      "metadata": {
        "id": "Vi2AoP9xMg9T"
      },
      "source": [
        "\n",
        "\n",
        "---\n",
        "\n",
        "\n",
        "\n",
        "# Ejercicio\n",
        "\n",
        "Aplicad ambos tipos de normalización sobre el dataset de pinguins\n",
        "\n",
        "\n",
        "---\n",
        "\n",
        "\n",
        "\n",
        "\n"
      ]
    },
    {
      "cell_type": "code",
      "metadata": {
        "id": "9rqYdgcDMgAs"
      },
      "source": [
        "# Código aquí\n",
        "dataset = sns.load_dataset(\"penguins\")"
      ],
      "execution_count": 15,
      "outputs": []
    },
    {
      "cell_type": "markdown",
      "metadata": {
        "id": "XSM0wJ9rvsjK"
      },
      "source": [
        "\n",
        "\n",
        "---\n",
        "\n",
        "\n",
        "\n",
        "\n",
        "# Reducción de Dimensionalidad - PCA\n",
        "\n",
        "Un espacio de características especialmente amplio puede suponer un grave detrimento en el rendimiento de nuestro algoritmo de \"machine learning\". Con el objetivo de redistribuir este espacio de características reduciendo el número de las mismas surgen los algoritmos de reducción de dimensionalidad.\n",
        "\n",
        "Un algoritmo de reducción de dimensionalidad utiliza la información disponible en las \"features\" de un dataset para generar características nuevas que supongan un aporte de información igual o mejor para el modelo.\n",
        "\n",
        "Existen diferentes tipos de técnicas para realizar esta reducción de dimensionalidad. En este apartado vamos a estudiar la PCA (Principal Component Analysis)"
      ]
    },
    {
      "cell_type": "markdown",
      "metadata": {
        "id": "Movh_GvxGCCw"
      },
      "source": [
        "## PCA\n",
        "\n",
        "El análisis de componentes principales (PCA) es una técnica de reducción de dimensionalidad lineal que calcula las direcciones en un espacio de características en las cuales se puede apreciar una mayor varianza y realiza un cambio de ejes para realizar una proyección ortogonal sobre los mismos.\n",
        "\n",
        "Podemos elevar el concepto a un punto intuitivo mediante la siguiente imagen"
      ]
    },
    {
      "cell_type": "markdown",
      "metadata": {
        "id": "CH3eplZJHN3v"
      },
      "source": [
        "![PCA_fish.png](data:image/png;base64,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)"
      ]
    },
    {
      "cell_type": "markdown",
      "metadata": {
        "id": "VL_Il01PHi2B"
      },
      "source": [
        "Como se puede apreciar en la imagen del pez, las direcciones calculadas son aquellas que mejor describen a nuestro pez pues este se extiende en esas direcciones. \n",
        "\n",
        "Las coordenadas de los puntos que definen al pez están originalmente definidas sobre los ejes x e y, pero estas cada punto tendrá su respectiva coordenada sobre los ejes dibujados en rojo. El análisis en PCA obtiene esas nuevas coordenadas para cada característica.\n",
        "\n",
        "Es importante resaltar que el objetivo en este caso es reducir el espacio de características, por lo que del resultado obtenido únicamente nos quedaríamos con las nuevas características proyectadas sobre una de las direcciones.\n",
        "\n",
        "Dado que la PCA depende de las distancias en la que se representan los puntos es importante normalizar los datos si estos se encuentran en escalas diferentes antes de aplicar la transformación. Además no es una técnica aprepriada para variables categóricas.\n",
        "\n",
        "Veamos como se calcula el PCA utilizando sklearn.\n",
        "\n",
        "\n",
        "\n",
        "---"
      ]
    },
    {
      "cell_type": "code",
      "metadata": {
        "id": "eIkU32_qNgQ7"
      },
      "source": [
        "from sklearn.decomposition import PCA"
      ],
      "execution_count": 7,
      "outputs": []
    },
    {
      "cell_type": "code",
      "metadata": {
        "id": "IdJpmuWfvuMv",
        "colab": {
          "base_uri": "https://localhost:8080/",
          "height": 205
        },
        "outputId": "c494bcf9-81cc-4231-f281-0b63999bf088"
      },
      "source": [
        "dataset = sns.load_dataset(\"iris\")\n",
        "X = dataset.iloc[:,:-1]\n",
        "min_max_scl = MinMaxScaler()\n",
        "X_transformed = min_max_scl.fit_transform(X)\n",
        "X_transformed_df = pd.DataFrame(X_transformed)\n",
        "pca = PCA()\n",
        "X_transformed_2 = pca.fit_transform(X_transformed_df)\n",
        "X_transformed_df2 = pd.DataFrame(X_transformed_2)\n",
        "X_transformed_df2.head(5)"
      ],
      "execution_count": 14,
      "outputs": [
        {
          "output_type": "execute_result",
          "data": {
            "text/html": [
              "<div>\n",
              "<style scoped>\n",
              "    .dataframe tbody tr th:only-of-type {\n",
              "        vertical-align: middle;\n",
              "    }\n",
              "\n",
              "    .dataframe tbody tr th {\n",
              "        vertical-align: top;\n",
              "    }\n",
              "\n",
              "    .dataframe thead th {\n",
              "        text-align: right;\n",
              "    }\n",
              "</style>\n",
              "<table border=\"1\" class=\"dataframe\">\n",
              "  <thead>\n",
              "    <tr style=\"text-align: right;\">\n",
              "      <th></th>\n",
              "      <th>0</th>\n",
              "      <th>1</th>\n",
              "      <th>2</th>\n",
              "      <th>3</th>\n",
              "    </tr>\n",
              "  </thead>\n",
              "  <tbody>\n",
              "    <tr>\n",
              "      <th>0</th>\n",
              "      <td>-0.630703</td>\n",
              "      <td>0.107578</td>\n",
              "      <td>-0.018719</td>\n",
              "      <td>-0.007307</td>\n",
              "    </tr>\n",
              "    <tr>\n",
              "      <th>1</th>\n",
              "      <td>-0.622905</td>\n",
              "      <td>-0.104260</td>\n",
              "      <td>-0.049142</td>\n",
              "      <td>-0.032359</td>\n",
              "    </tr>\n",
              "    <tr>\n",
              "      <th>2</th>\n",
              "      <td>-0.669520</td>\n",
              "      <td>-0.051417</td>\n",
              "      <td>0.019644</td>\n",
              "      <td>-0.007434</td>\n",
              "    </tr>\n",
              "    <tr>\n",
              "      <th>3</th>\n",
              "      <td>-0.654153</td>\n",
              "      <td>-0.102885</td>\n",
              "      <td>0.023219</td>\n",
              "      <td>0.020114</td>\n",
              "    </tr>\n",
              "    <tr>\n",
              "      <th>4</th>\n",
              "      <td>-0.648788</td>\n",
              "      <td>0.133488</td>\n",
              "      <td>0.015116</td>\n",
              "      <td>0.011786</td>\n",
              "    </tr>\n",
              "  </tbody>\n",
              "</table>\n",
              "</div>"
            ],
            "text/plain": [
              "          0         1         2         3\n",
              "0 -0.630703  0.107578 -0.018719 -0.007307\n",
              "1 -0.622905 -0.104260 -0.049142 -0.032359\n",
              "2 -0.669520 -0.051417  0.019644 -0.007434\n",
              "3 -0.654153 -0.102885  0.023219  0.020114\n",
              "4 -0.648788  0.133488  0.015116  0.011786"
            ]
          },
          "metadata": {},
          "execution_count": 14
        }
      ]
    },
    {
      "cell_type": "markdown",
      "metadata": {
        "id": "12qI4UA4MjRE"
      },
      "source": [
        "\n",
        "\n",
        "---\n",
        "\n",
        "Es importante matizar que no todas las componentes principales calculadas deben incluirse en el análisis posterior. ¿Pero cómo seleccionarlas?\n",
        "\n",
        "Generalmente se utiliza la cantidad de varianza explicada de cada componente principal para ello.\n",
        "\n",
        "Este ratio mide el porcentaje de varianza de la componente principal calculada con respecto a todo el dataset y existen diversas reglas para seleccionar las componentes en función del mismo.\n",
        "\n",
        "Como norma general podéis elegir las componentes que al menos sumen un 80% de la varianza o hasta que decaiga el porcentaje en una de ellas por debajo del primer decimal.\n",
        "\n",
        "\n",
        "\n",
        "---\n",
        "\n",
        "\n"
      ]
    },
    {
      "cell_type": "code",
      "metadata": {
        "colab": {
          "base_uri": "https://localhost:8080/"
        },
        "id": "0hzsBlB0OLgm",
        "outputId": "78b3aec2-3e38-413c-ece5-3fedb600b613"
      },
      "source": [
        "print(\"Variance:\",pca.explained_variance_)\n",
        "print(\"Variance Explained:\",pca.explained_variance_ratio_)\n",
        "print(\"Seleccionamos las dos primeras componentes calculadas\")"
      ],
      "execution_count": 13,
      "outputs": [
        {
          "output_type": "stream",
          "name": "stdout",
          "text": [
            "Variance: [0.23245325 0.0324682  0.00959685 0.00176432]\n",
            "Variance Explained: [0.84136038 0.11751808 0.03473561 0.00638592]\n",
            "Seleccionamos las dos primeras componentes calculadas\n"
          ]
        }
      ]
    },
    {
      "cell_type": "markdown",
      "metadata": {
        "id": "sP7mEzVCOpiv"
      },
      "source": [
        "---\n",
        "\n",
        "\n",
        "\n",
        "# Ejercicio\n",
        "\n",
        "Calculad una PCA para el dataset de penguins y seleccionad el número de componentes principales apropriado.\n",
        "\n",
        "\n",
        "\n",
        "---\n",
        "\n"
      ]
    },
    {
      "cell_type": "code",
      "metadata": {
        "id": "u8DxByHcP3MY"
      },
      "source": [
        "# Escribe tu código aquí"
      ],
      "execution_count": 16,
      "outputs": []
    },
    {
      "cell_type": "markdown",
      "metadata": {
        "id": "La-LhOGrPyHA"
      },
      "source": [
        "# UMAP\n",
        "\n",
        "Es una técnica de reducción de dimensionalidad no lineal que permite preservar la estructura global y local de los grupos de datos que se puedan encontrar en un dataset.\n",
        "\n",
        "UMAP es una potente técnica que permite reducir la dimensionalidad de los datos para construir visualizaciones sobre ella o modelar.\n",
        "\n",
        "La derivación matemática de UMAP es muy compleja y queda fuera del alcance de esta clase. Os dejo un enlace con una explicación detallada de la misma y una comparación con el predecesor de UMAP, t-SNE. \n",
        "\n",
        "https://towardsdatascience.com/how-exactly-umap-works-13e3040e1668\n",
        "\n",
        "https://pair-code.github.io/understanding-umap/ (link extra)\n",
        "\n",
        "\n",
        "Sin embargo si podemos obtener una intuición general de que es la estructura global y local de un conjunto de datos visualizando el dataset iris."
      ]
    },
    {
      "cell_type": "code",
      "metadata": {
        "id": "qYfgQye8TycR"
      },
      "source": [
        "import plotly.express as px"
      ],
      "execution_count": 17,
      "outputs": []
    },
    {
      "cell_type": "code",
      "metadata": {
        "colab": {
          "base_uri": "https://localhost:8080/",
          "height": 542
        },
        "id": "NLE1t7ZfT1qJ",
        "outputId": "0e542326-8bb0-486c-ae27-29f37f788add"
      },
      "source": [
        "dataset = sns.load_dataset(\"iris\")\n",
        "fig = px.scatter(dataset, x=\"petal_length\", y=\"petal_width\", color=\"species\")\n",
        "fig.show()"
      ],
      "execution_count": 19,
      "outputs": [
        {
          "output_type": "display_data",
          "data": {
            "text/html": [
              "<html>\n",
              "<head><meta charset=\"utf-8\" /></head>\n",
              "<body>\n",
              "    <div>\n",
              "            <script src=\"https://cdnjs.cloudflare.com/ajax/libs/mathjax/2.7.5/MathJax.js?config=TeX-AMS-MML_SVG\"></script><script type=\"text/javascript\">if (window.MathJax) {MathJax.Hub.Config({SVG: {font: \"STIX-Web\"}});}</script>\n",
              "                <script type=\"text/javascript\">window.PlotlyConfig = {MathJaxConfig: 'local'};</script>\n",
              "        <script src=\"https://cdn.plot.ly/plotly-latest.min.js\"></script>    \n",
              "            <div id=\"e2e1f62f-e31f-433f-9a30-d8eb1f031b76\" class=\"plotly-graph-div\" style=\"height:525px; width:100%;\"></div>\n",
              "            <script type=\"text/javascript\">\n",
              "                \n",
              "                    window.PLOTLYENV=window.PLOTLYENV || {};\n",
              "                    \n",
              "                if (document.getElementById(\"e2e1f62f-e31f-433f-9a30-d8eb1f031b76\")) {\n",
              "                    Plotly.newPlot(\n",
              "                        'e2e1f62f-e31f-433f-9a30-d8eb1f031b76',\n",
              "                        [{\"hoverlabel\": {\"namelength\": 0}, \"hovertemplate\": \"species=setosa<br>petal_length=%{x}<br>petal_width=%{y}\", \"legendgroup\": \"species=setosa\", \"marker\": {\"color\": \"#636efa\", \"symbol\": \"circle\"}, \"mode\": \"markers\", \"name\": \"species=setosa\", \"showlegend\": true, \"type\": \"scatter\", \"x\": [1.4, 1.4, 1.3, 1.5, 1.4, 1.7, 1.4, 1.5, 1.4, 1.5, 1.5, 1.6, 1.4, 1.1, 1.2, 1.5, 1.3, 1.4, 1.7, 1.5, 1.7, 1.5, 1.0, 1.7, 1.9, 1.6, 1.6, 1.5, 1.4, 1.6, 1.6, 1.5, 1.5, 1.4, 1.5, 1.2, 1.3, 1.4, 1.3, 1.5, 1.3, 1.3, 1.3, 1.6, 1.9, 1.4, 1.6, 1.4, 1.5, 1.4], \"xaxis\": \"x\", \"y\": [0.2, 0.2, 0.2, 0.2, 0.2, 0.4, 0.3, 0.2, 0.2, 0.1, 0.2, 0.2, 0.1, 0.1, 0.2, 0.4, 0.4, 0.3, 0.3, 0.3, 0.2, 0.4, 0.2, 0.5, 0.2, 0.2, 0.4, 0.2, 0.2, 0.2, 0.2, 0.4, 0.1, 0.2, 0.2, 0.2, 0.2, 0.1, 0.2, 0.2, 0.3, 0.3, 0.2, 0.6, 0.4, 0.3, 0.2, 0.2, 0.2, 0.2], \"yaxis\": \"y\"}, {\"hoverlabel\": {\"namelength\": 0}, \"hovertemplate\": \"species=versicolor<br>petal_length=%{x}<br>petal_width=%{y}\", \"legendgroup\": \"species=versicolor\", \"marker\": {\"color\": \"#EF553B\", \"symbol\": \"circle\"}, \"mode\": \"markers\", \"name\": \"species=versicolor\", \"showlegend\": true, \"type\": \"scatter\", \"x\": [4.7, 4.5, 4.9, 4.0, 4.6, 4.5, 4.7, 3.3, 4.6, 3.9, 3.5, 4.2, 4.0, 4.7, 3.6, 4.4, 4.5, 4.1, 4.5, 3.9, 4.8, 4.0, 4.9, 4.7, 4.3, 4.4, 4.8, 5.0, 4.5, 3.5, 3.8, 3.7, 3.9, 5.1, 4.5, 4.5, 4.7, 4.4, 4.1, 4.0, 4.4, 4.6, 4.0, 3.3, 4.2, 4.2, 4.2, 4.3, 3.0, 4.1], \"xaxis\": \"x\", \"y\": [1.4, 1.5, 1.5, 1.3, 1.5, 1.3, 1.6, 1.0, 1.3, 1.4, 1.0, 1.5, 1.0, 1.4, 1.3, 1.4, 1.5, 1.0, 1.5, 1.1, 1.8, 1.3, 1.5, 1.2, 1.3, 1.4, 1.4, 1.7, 1.5, 1.0, 1.1, 1.0, 1.2, 1.6, 1.5, 1.6, 1.5, 1.3, 1.3, 1.3, 1.2, 1.4, 1.2, 1.0, 1.3, 1.2, 1.3, 1.3, 1.1, 1.3], \"yaxis\": \"y\"}, {\"hoverlabel\": {\"namelength\": 0}, \"hovertemplate\": \"species=virginica<br>petal_length=%{x}<br>petal_width=%{y}\", \"legendgroup\": \"species=virginica\", \"marker\": {\"color\": \"#00cc96\", \"symbol\": \"circle\"}, \"mode\": \"markers\", \"name\": \"species=virginica\", \"showlegend\": true, \"type\": \"scatter\", \"x\": [6.0, 5.1, 5.9, 5.6, 5.8, 6.6, 4.5, 6.3, 5.8, 6.1, 5.1, 5.3, 5.5, 5.0, 5.1, 5.3, 5.5, 6.7, 6.9, 5.0, 5.7, 4.9, 6.7, 4.9, 5.7, 6.0, 4.8, 4.9, 5.6, 5.8, 6.1, 6.4, 5.6, 5.1, 5.6, 6.1, 5.6, 5.5, 4.8, 5.4, 5.6, 5.1, 5.1, 5.9, 5.7, 5.2, 5.0, 5.2, 5.4, 5.1], \"xaxis\": \"x\", \"y\": [2.5, 1.9, 2.1, 1.8, 2.2, 2.1, 1.7, 1.8, 1.8, 2.5, 2.0, 1.9, 2.1, 2.0, 2.4, 2.3, 1.8, 2.2, 2.3, 1.5, 2.3, 2.0, 2.0, 1.8, 2.1, 1.8, 1.8, 1.8, 2.1, 1.6, 1.9, 2.0, 2.2, 1.5, 1.4, 2.3, 2.4, 1.8, 1.8, 2.1, 2.4, 2.3, 1.9, 2.3, 2.5, 2.3, 1.9, 2.0, 2.3, 1.8], \"yaxis\": \"y\"}],\n",
              "                        {\"legend\": {\"tracegroupgap\": 0}, \"margin\": {\"t\": 60}, \"template\": {\"data\": {\"bar\": [{\"error_x\": {\"color\": \"#2a3f5f\"}, \"error_y\": {\"color\": \"#2a3f5f\"}, \"marker\": {\"line\": {\"color\": \"#E5ECF6\", \"width\": 0.5}}, \"type\": \"bar\"}], \"barpolar\": [{\"marker\": {\"line\": {\"color\": \"#E5ECF6\", \"width\": 0.5}}, \"type\": \"barpolar\"}], \"carpet\": [{\"aaxis\": {\"endlinecolor\": \"#2a3f5f\", \"gridcolor\": \"white\", \"linecolor\": \"white\", \"minorgridcolor\": \"white\", \"startlinecolor\": \"#2a3f5f\"}, \"baxis\": {\"endlinecolor\": \"#2a3f5f\", \"gridcolor\": \"white\", \"linecolor\": \"white\", \"minorgridcolor\": \"white\", \"startlinecolor\": \"#2a3f5f\"}, \"type\": \"carpet\"}], \"choropleth\": [{\"colorbar\": {\"outlinewidth\": 0, \"ticks\": \"\"}, \"type\": \"choropleth\"}], \"contour\": [{\"colorbar\": {\"outlinewidth\": 0, \"ticks\": \"\"}, \"colorscale\": [[0.0, \"#0d0887\"], [0.1111111111111111, \"#46039f\"], [0.2222222222222222, \"#7201a8\"], [0.3333333333333333, \"#9c179e\"], [0.4444444444444444, \"#bd3786\"], [0.5555555555555556, \"#d8576b\"], [0.6666666666666666, \"#ed7953\"], [0.7777777777777778, \"#fb9f3a\"], [0.8888888888888888, \"#fdca26\"], [1.0, \"#f0f921\"]], \"type\": \"contour\"}], \"contourcarpet\": [{\"colorbar\": {\"outlinewidth\": 0, \"ticks\": \"\"}, \"type\": \"contourcarpet\"}], \"heatmap\": [{\"colorbar\": {\"outlinewidth\": 0, \"ticks\": \"\"}, \"colorscale\": [[0.0, \"#0d0887\"], [0.1111111111111111, \"#46039f\"], [0.2222222222222222, \"#7201a8\"], [0.3333333333333333, \"#9c179e\"], [0.4444444444444444, \"#bd3786\"], [0.5555555555555556, \"#d8576b\"], [0.6666666666666666, \"#ed7953\"], [0.7777777777777778, \"#fb9f3a\"], [0.8888888888888888, \"#fdca26\"], [1.0, \"#f0f921\"]], \"type\": \"heatmap\"}], \"heatmapgl\": [{\"colorbar\": {\"outlinewidth\": 0, \"ticks\": \"\"}, \"colorscale\": [[0.0, \"#0d0887\"], [0.1111111111111111, \"#46039f\"], [0.2222222222222222, \"#7201a8\"], [0.3333333333333333, \"#9c179e\"], [0.4444444444444444, \"#bd3786\"], [0.5555555555555556, \"#d8576b\"], [0.6666666666666666, \"#ed7953\"], [0.7777777777777778, \"#fb9f3a\"], [0.8888888888888888, \"#fdca26\"], [1.0, \"#f0f921\"]], \"type\": \"heatmapgl\"}], \"histogram\": [{\"marker\": {\"colorbar\": {\"outlinewidth\": 0, \"ticks\": \"\"}}, \"type\": \"histogram\"}], \"histogram2d\": [{\"colorbar\": {\"outlinewidth\": 0, \"ticks\": \"\"}, \"colorscale\": [[0.0, \"#0d0887\"], [0.1111111111111111, \"#46039f\"], [0.2222222222222222, \"#7201a8\"], [0.3333333333333333, \"#9c179e\"], [0.4444444444444444, \"#bd3786\"], [0.5555555555555556, \"#d8576b\"], [0.6666666666666666, \"#ed7953\"], [0.7777777777777778, \"#fb9f3a\"], [0.8888888888888888, \"#fdca26\"], [1.0, \"#f0f921\"]], \"type\": \"histogram2d\"}], \"histogram2dcontour\": [{\"colorbar\": {\"outlinewidth\": 0, \"ticks\": \"\"}, \"colorscale\": [[0.0, \"#0d0887\"], [0.1111111111111111, \"#46039f\"], [0.2222222222222222, \"#7201a8\"], [0.3333333333333333, \"#9c179e\"], [0.4444444444444444, \"#bd3786\"], [0.5555555555555556, \"#d8576b\"], [0.6666666666666666, \"#ed7953\"], [0.7777777777777778, \"#fb9f3a\"], [0.8888888888888888, \"#fdca26\"], [1.0, \"#f0f921\"]], \"type\": \"histogram2dcontour\"}], \"mesh3d\": [{\"colorbar\": {\"outlinewidth\": 0, \"ticks\": \"\"}, \"type\": \"mesh3d\"}], \"parcoords\": [{\"line\": {\"colorbar\": {\"outlinewidth\": 0, \"ticks\": \"\"}}, \"type\": \"parcoords\"}], \"pie\": [{\"automargin\": true, \"type\": \"pie\"}], \"scatter\": [{\"marker\": {\"colorbar\": {\"outlinewidth\": 0, \"ticks\": \"\"}}, \"type\": \"scatter\"}], \"scatter3d\": [{\"line\": {\"colorbar\": {\"outlinewidth\": 0, \"ticks\": \"\"}}, \"marker\": {\"colorbar\": {\"outlinewidth\": 0, \"ticks\": \"\"}}, \"type\": \"scatter3d\"}], \"scattercarpet\": [{\"marker\": {\"colorbar\": {\"outlinewidth\": 0, \"ticks\": \"\"}}, \"type\": \"scattercarpet\"}], \"scattergeo\": [{\"marker\": {\"colorbar\": {\"outlinewidth\": 0, \"ticks\": \"\"}}, \"type\": \"scattergeo\"}], \"scattergl\": [{\"marker\": {\"colorbar\": {\"outlinewidth\": 0, \"ticks\": \"\"}}, \"type\": \"scattergl\"}], \"scattermapbox\": [{\"marker\": {\"colorbar\": {\"outlinewidth\": 0, \"ticks\": \"\"}}, \"type\": \"scattermapbox\"}], \"scatterpolar\": [{\"marker\": {\"colorbar\": {\"outlinewidth\": 0, \"ticks\": \"\"}}, \"type\": \"scatterpolar\"}], \"scatterpolargl\": [{\"marker\": {\"colorbar\": {\"outlinewidth\": 0, \"ticks\": \"\"}}, \"type\": \"scatterpolargl\"}], \"scatterternary\": [{\"marker\": {\"colorbar\": {\"outlinewidth\": 0, \"ticks\": \"\"}}, \"type\": \"scatterternary\"}], \"surface\": [{\"colorbar\": {\"outlinewidth\": 0, \"ticks\": \"\"}, \"colorscale\": [[0.0, \"#0d0887\"], [0.1111111111111111, \"#46039f\"], [0.2222222222222222, \"#7201a8\"], [0.3333333333333333, \"#9c179e\"], [0.4444444444444444, \"#bd3786\"], [0.5555555555555556, \"#d8576b\"], [0.6666666666666666, \"#ed7953\"], [0.7777777777777778, \"#fb9f3a\"], [0.8888888888888888, \"#fdca26\"], [1.0, \"#f0f921\"]], \"type\": \"surface\"}], \"table\": [{\"cells\": {\"fill\": {\"color\": \"#EBF0F8\"}, \"line\": {\"color\": \"white\"}}, \"header\": {\"fill\": {\"color\": \"#C8D4E3\"}, \"line\": {\"color\": \"white\"}}, \"type\": \"table\"}]}, \"layout\": {\"annotationdefaults\": {\"arrowcolor\": \"#2a3f5f\", \"arrowhead\": 0, \"arrowwidth\": 1}, \"coloraxis\": {\"colorbar\": {\"outlinewidth\": 0, \"ticks\": \"\"}}, \"colorscale\": {\"diverging\": [[0, \"#8e0152\"], [0.1, \"#c51b7d\"], [0.2, \"#de77ae\"], [0.3, \"#f1b6da\"], [0.4, \"#fde0ef\"], [0.5, \"#f7f7f7\"], [0.6, \"#e6f5d0\"], [0.7, \"#b8e186\"], [0.8, \"#7fbc41\"], [0.9, \"#4d9221\"], [1, \"#276419\"]], \"sequential\": [[0.0, \"#0d0887\"], [0.1111111111111111, \"#46039f\"], [0.2222222222222222, \"#7201a8\"], [0.3333333333333333, \"#9c179e\"], [0.4444444444444444, \"#bd3786\"], [0.5555555555555556, \"#d8576b\"], [0.6666666666666666, \"#ed7953\"], [0.7777777777777778, \"#fb9f3a\"], [0.8888888888888888, \"#fdca26\"], [1.0, \"#f0f921\"]], \"sequentialminus\": [[0.0, \"#0d0887\"], [0.1111111111111111, \"#46039f\"], [0.2222222222222222, \"#7201a8\"], [0.3333333333333333, \"#9c179e\"], [0.4444444444444444, \"#bd3786\"], [0.5555555555555556, \"#d8576b\"], [0.6666666666666666, \"#ed7953\"], [0.7777777777777778, \"#fb9f3a\"], [0.8888888888888888, \"#fdca26\"], [1.0, \"#f0f921\"]]}, \"colorway\": [\"#636efa\", \"#EF553B\", \"#00cc96\", \"#ab63fa\", \"#FFA15A\", \"#19d3f3\", \"#FF6692\", \"#B6E880\", \"#FF97FF\", \"#FECB52\"], \"font\": {\"color\": \"#2a3f5f\"}, \"geo\": {\"bgcolor\": \"white\", \"lakecolor\": \"white\", \"landcolor\": \"#E5ECF6\", \"showlakes\": true, \"showland\": true, \"subunitcolor\": \"white\"}, \"hoverlabel\": {\"align\": \"left\"}, \"hovermode\": \"closest\", \"mapbox\": {\"style\": \"light\"}, \"paper_bgcolor\": \"white\", \"plot_bgcolor\": \"#E5ECF6\", \"polar\": {\"angularaxis\": {\"gridcolor\": \"white\", \"linecolor\": \"white\", \"ticks\": \"\"}, \"bgcolor\": \"#E5ECF6\", \"radialaxis\": {\"gridcolor\": \"white\", \"linecolor\": \"white\", \"ticks\": \"\"}}, \"scene\": {\"xaxis\": {\"backgroundcolor\": \"#E5ECF6\", \"gridcolor\": \"white\", \"gridwidth\": 2, \"linecolor\": \"white\", \"showbackground\": true, \"ticks\": \"\", \"zerolinecolor\": \"white\"}, \"yaxis\": {\"backgroundcolor\": \"#E5ECF6\", \"gridcolor\": \"white\", \"gridwidth\": 2, \"linecolor\": \"white\", \"showbackground\": true, \"ticks\": \"\", \"zerolinecolor\": \"white\"}, \"zaxis\": {\"backgroundcolor\": \"#E5ECF6\", \"gridcolor\": \"white\", \"gridwidth\": 2, \"linecolor\": \"white\", \"showbackground\": true, \"ticks\": \"\", \"zerolinecolor\": \"white\"}}, \"shapedefaults\": {\"line\": {\"color\": \"#2a3f5f\"}}, \"ternary\": {\"aaxis\": {\"gridcolor\": \"white\", \"linecolor\": \"white\", \"ticks\": \"\"}, \"baxis\": {\"gridcolor\": \"white\", \"linecolor\": \"white\", \"ticks\": \"\"}, \"bgcolor\": \"#E5ECF6\", \"caxis\": {\"gridcolor\": \"white\", \"linecolor\": \"white\", \"ticks\": \"\"}}, \"title\": {\"x\": 0.05}, \"xaxis\": {\"automargin\": true, \"gridcolor\": \"white\", \"linecolor\": \"white\", \"ticks\": \"\", \"title\": {\"standoff\": 15}, \"zerolinecolor\": \"white\", \"zerolinewidth\": 2}, \"yaxis\": {\"automargin\": true, \"gridcolor\": \"white\", \"linecolor\": \"white\", \"ticks\": \"\", \"title\": {\"standoff\": 15}, \"zerolinecolor\": \"white\", \"zerolinewidth\": 2}}}, \"xaxis\": {\"anchor\": \"y\", \"domain\": [0.0, 1.0], \"title\": {\"text\": \"petal_length\"}}, \"yaxis\": {\"anchor\": \"x\", \"domain\": [0.0, 1.0], \"title\": {\"text\": \"petal_width\"}}},\n",
              "                        {\"responsive\": true}\n",
              "                    ).then(function(){\n",
              "                            \n",
              "var gd = document.getElementById('e2e1f62f-e31f-433f-9a30-d8eb1f031b76');\n",
              "var x = new MutationObserver(function (mutations, observer) {{\n",
              "        var display = window.getComputedStyle(gd).display;\n",
              "        if (!display || display === 'none') {{\n",
              "            console.log([gd, 'removed!']);\n",
              "            Plotly.purge(gd);\n",
              "            observer.disconnect();\n",
              "        }}\n",
              "}});\n",
              "\n",
              "// Listen for the removal of the full notebook cells\n",
              "var notebookContainer = gd.closest('#notebook-container');\n",
              "if (notebookContainer) {{\n",
              "    x.observe(notebookContainer, {childList: true});\n",
              "}}\n",
              "\n",
              "// Listen for the clearing of the current output cell\n",
              "var outputEl = gd.closest('.output');\n",
              "if (outputEl) {{\n",
              "    x.observe(outputEl, {childList: true});\n",
              "}}\n",
              "\n",
              "                        })\n",
              "                };\n",
              "                \n",
              "            </script>\n",
              "        </div>\n",
              "</body>\n",
              "</html>"
            ]
          },
          "metadata": {}
        }
      ]
    },
    {
      "cell_type": "code",
      "metadata": {
        "colab": {
          "base_uri": "https://localhost:8080/",
          "height": 542
        },
        "id": "M2CNgJXhUDsN",
        "outputId": "4993a30c-8924-4e20-a296-5f2d08be2bfa"
      },
      "source": [
        "dataset = sns.load_dataset(\"iris\")\n",
        "fig = px.scatter(dataset, x=\"sepal_length\", y=\"sepal_width\", color=\"species\")\n",
        "fig.show()"
      ],
      "execution_count": 20,
      "outputs": [
        {
          "output_type": "display_data",
          "data": {
            "text/html": [
              "<html>\n",
              "<head><meta charset=\"utf-8\" /></head>\n",
              "<body>\n",
              "    <div>\n",
              "            <script src=\"https://cdnjs.cloudflare.com/ajax/libs/mathjax/2.7.5/MathJax.js?config=TeX-AMS-MML_SVG\"></script><script type=\"text/javascript\">if (window.MathJax) {MathJax.Hub.Config({SVG: {font: \"STIX-Web\"}});}</script>\n",
              "                <script type=\"text/javascript\">window.PlotlyConfig = {MathJaxConfig: 'local'};</script>\n",
              "        <script src=\"https://cdn.plot.ly/plotly-latest.min.js\"></script>    \n",
              "            <div id=\"3e04ba08-3aca-4abd-b9e3-0a53f0211658\" class=\"plotly-graph-div\" style=\"height:525px; width:100%;\"></div>\n",
              "            <script type=\"text/javascript\">\n",
              "                \n",
              "                    window.PLOTLYENV=window.PLOTLYENV || {};\n",
              "                    \n",
              "                if (document.getElementById(\"3e04ba08-3aca-4abd-b9e3-0a53f0211658\")) {\n",
              "                    Plotly.newPlot(\n",
              "                        '3e04ba08-3aca-4abd-b9e3-0a53f0211658',\n",
              "                        [{\"hoverlabel\": {\"namelength\": 0}, \"hovertemplate\": \"species=setosa<br>sepal_length=%{x}<br>sepal_width=%{y}\", \"legendgroup\": \"species=setosa\", \"marker\": {\"color\": \"#636efa\", \"symbol\": \"circle\"}, \"mode\": \"markers\", \"name\": \"species=setosa\", \"showlegend\": true, \"type\": \"scatter\", \"x\": [5.1, 4.9, 4.7, 4.6, 5.0, 5.4, 4.6, 5.0, 4.4, 4.9, 5.4, 4.8, 4.8, 4.3, 5.8, 5.7, 5.4, 5.1, 5.7, 5.1, 5.4, 5.1, 4.6, 5.1, 4.8, 5.0, 5.0, 5.2, 5.2, 4.7, 4.8, 5.4, 5.2, 5.5, 4.9, 5.0, 5.5, 4.9, 4.4, 5.1, 5.0, 4.5, 4.4, 5.0, 5.1, 4.8, 5.1, 4.6, 5.3, 5.0], \"xaxis\": \"x\", \"y\": [3.5, 3.0, 3.2, 3.1, 3.6, 3.9, 3.4, 3.4, 2.9, 3.1, 3.7, 3.4, 3.0, 3.0, 4.0, 4.4, 3.9, 3.5, 3.8, 3.8, 3.4, 3.7, 3.6, 3.3, 3.4, 3.0, 3.4, 3.5, 3.4, 3.2, 3.1, 3.4, 4.1, 4.2, 3.1, 3.2, 3.5, 3.6, 3.0, 3.4, 3.5, 2.3, 3.2, 3.5, 3.8, 3.0, 3.8, 3.2, 3.7, 3.3], \"yaxis\": \"y\"}, {\"hoverlabel\": {\"namelength\": 0}, \"hovertemplate\": \"species=versicolor<br>sepal_length=%{x}<br>sepal_width=%{y}\", \"legendgroup\": \"species=versicolor\", \"marker\": {\"color\": \"#EF553B\", \"symbol\": \"circle\"}, \"mode\": \"markers\", \"name\": \"species=versicolor\", \"showlegend\": true, \"type\": \"scatter\", \"x\": [7.0, 6.4, 6.9, 5.5, 6.5, 5.7, 6.3, 4.9, 6.6, 5.2, 5.0, 5.9, 6.0, 6.1, 5.6, 6.7, 5.6, 5.8, 6.2, 5.6, 5.9, 6.1, 6.3, 6.1, 6.4, 6.6, 6.8, 6.7, 6.0, 5.7, 5.5, 5.5, 5.8, 6.0, 5.4, 6.0, 6.7, 6.3, 5.6, 5.5, 5.5, 6.1, 5.8, 5.0, 5.6, 5.7, 5.7, 6.2, 5.1, 5.7], \"xaxis\": \"x\", \"y\": [3.2, 3.2, 3.1, 2.3, 2.8, 2.8, 3.3, 2.4, 2.9, 2.7, 2.0, 3.0, 2.2, 2.9, 2.9, 3.1, 3.0, 2.7, 2.2, 2.5, 3.2, 2.8, 2.5, 2.8, 2.9, 3.0, 2.8, 3.0, 2.9, 2.6, 2.4, 2.4, 2.7, 2.7, 3.0, 3.4, 3.1, 2.3, 3.0, 2.5, 2.6, 3.0, 2.6, 2.3, 2.7, 3.0, 2.9, 2.9, 2.5, 2.8], \"yaxis\": \"y\"}, {\"hoverlabel\": {\"namelength\": 0}, \"hovertemplate\": \"species=virginica<br>sepal_length=%{x}<br>sepal_width=%{y}\", \"legendgroup\": \"species=virginica\", \"marker\": {\"color\": \"#00cc96\", \"symbol\": \"circle\"}, \"mode\": \"markers\", \"name\": \"species=virginica\", \"showlegend\": true, \"type\": \"scatter\", \"x\": [6.3, 5.8, 7.1, 6.3, 6.5, 7.6, 4.9, 7.3, 6.7, 7.2, 6.5, 6.4, 6.8, 5.7, 5.8, 6.4, 6.5, 7.7, 7.7, 6.0, 6.9, 5.6, 7.7, 6.3, 6.7, 7.2, 6.2, 6.1, 6.4, 7.2, 7.4, 7.9, 6.4, 6.3, 6.1, 7.7, 6.3, 6.4, 6.0, 6.9, 6.7, 6.9, 5.8, 6.8, 6.7, 6.7, 6.3, 6.5, 6.2, 5.9], \"xaxis\": \"x\", \"y\": [3.3, 2.7, 3.0, 2.9, 3.0, 3.0, 2.5, 2.9, 2.5, 3.6, 3.2, 2.7, 3.0, 2.5, 2.8, 3.2, 3.0, 3.8, 2.6, 2.2, 3.2, 2.8, 2.8, 2.7, 3.3, 3.2, 2.8, 3.0, 2.8, 3.0, 2.8, 3.8, 2.8, 2.8, 2.6, 3.0, 3.4, 3.1, 3.0, 3.1, 3.1, 3.1, 2.7, 3.2, 3.3, 3.0, 2.5, 3.0, 3.4, 3.0], \"yaxis\": \"y\"}],\n",
              "                        {\"legend\": {\"tracegroupgap\": 0}, \"margin\": {\"t\": 60}, \"template\": {\"data\": {\"bar\": [{\"error_x\": {\"color\": \"#2a3f5f\"}, \"error_y\": {\"color\": \"#2a3f5f\"}, \"marker\": {\"line\": {\"color\": \"#E5ECF6\", \"width\": 0.5}}, \"type\": \"bar\"}], \"barpolar\": [{\"marker\": {\"line\": {\"color\": \"#E5ECF6\", \"width\": 0.5}}, \"type\": \"barpolar\"}], \"carpet\": [{\"aaxis\": {\"endlinecolor\": \"#2a3f5f\", \"gridcolor\": \"white\", \"linecolor\": \"white\", \"minorgridcolor\": \"white\", \"startlinecolor\": \"#2a3f5f\"}, \"baxis\": {\"endlinecolor\": \"#2a3f5f\", \"gridcolor\": \"white\", \"linecolor\": \"white\", \"minorgridcolor\": \"white\", \"startlinecolor\": \"#2a3f5f\"}, \"type\": \"carpet\"}], \"choropleth\": [{\"colorbar\": {\"outlinewidth\": 0, \"ticks\": \"\"}, \"type\": \"choropleth\"}], \"contour\": [{\"colorbar\": {\"outlinewidth\": 0, \"ticks\": \"\"}, \"colorscale\": [[0.0, \"#0d0887\"], [0.1111111111111111, \"#46039f\"], [0.2222222222222222, \"#7201a8\"], [0.3333333333333333, \"#9c179e\"], [0.4444444444444444, \"#bd3786\"], [0.5555555555555556, \"#d8576b\"], [0.6666666666666666, \"#ed7953\"], [0.7777777777777778, \"#fb9f3a\"], [0.8888888888888888, \"#fdca26\"], [1.0, \"#f0f921\"]], \"type\": \"contour\"}], \"contourcarpet\": [{\"colorbar\": {\"outlinewidth\": 0, \"ticks\": \"\"}, \"type\": \"contourcarpet\"}], \"heatmap\": [{\"colorbar\": {\"outlinewidth\": 0, \"ticks\": \"\"}, \"colorscale\": [[0.0, \"#0d0887\"], [0.1111111111111111, \"#46039f\"], [0.2222222222222222, \"#7201a8\"], [0.3333333333333333, \"#9c179e\"], [0.4444444444444444, \"#bd3786\"], [0.5555555555555556, \"#d8576b\"], [0.6666666666666666, \"#ed7953\"], [0.7777777777777778, \"#fb9f3a\"], [0.8888888888888888, \"#fdca26\"], [1.0, \"#f0f921\"]], \"type\": \"heatmap\"}], \"heatmapgl\": [{\"colorbar\": {\"outlinewidth\": 0, \"ticks\": \"\"}, \"colorscale\": [[0.0, \"#0d0887\"], [0.1111111111111111, \"#46039f\"], [0.2222222222222222, \"#7201a8\"], [0.3333333333333333, \"#9c179e\"], [0.4444444444444444, \"#bd3786\"], [0.5555555555555556, \"#d8576b\"], [0.6666666666666666, \"#ed7953\"], [0.7777777777777778, \"#fb9f3a\"], [0.8888888888888888, \"#fdca26\"], [1.0, \"#f0f921\"]], \"type\": \"heatmapgl\"}], \"histogram\": [{\"marker\": {\"colorbar\": {\"outlinewidth\": 0, \"ticks\": \"\"}}, \"type\": \"histogram\"}], \"histogram2d\": [{\"colorbar\": {\"outlinewidth\": 0, \"ticks\": \"\"}, \"colorscale\": [[0.0, \"#0d0887\"], [0.1111111111111111, \"#46039f\"], [0.2222222222222222, \"#7201a8\"], [0.3333333333333333, \"#9c179e\"], [0.4444444444444444, \"#bd3786\"], [0.5555555555555556, \"#d8576b\"], [0.6666666666666666, \"#ed7953\"], [0.7777777777777778, \"#fb9f3a\"], [0.8888888888888888, \"#fdca26\"], [1.0, \"#f0f921\"]], \"type\": \"histogram2d\"}], \"histogram2dcontour\": [{\"colorbar\": {\"outlinewidth\": 0, \"ticks\": \"\"}, \"colorscale\": [[0.0, \"#0d0887\"], [0.1111111111111111, \"#46039f\"], [0.2222222222222222, \"#7201a8\"], [0.3333333333333333, \"#9c179e\"], [0.4444444444444444, \"#bd3786\"], [0.5555555555555556, \"#d8576b\"], [0.6666666666666666, \"#ed7953\"], [0.7777777777777778, \"#fb9f3a\"], [0.8888888888888888, \"#fdca26\"], [1.0, \"#f0f921\"]], \"type\": \"histogram2dcontour\"}], \"mesh3d\": [{\"colorbar\": {\"outlinewidth\": 0, \"ticks\": \"\"}, \"type\": \"mesh3d\"}], \"parcoords\": [{\"line\": {\"colorbar\": {\"outlinewidth\": 0, \"ticks\": \"\"}}, \"type\": \"parcoords\"}], \"pie\": [{\"automargin\": true, \"type\": \"pie\"}], \"scatter\": [{\"marker\": {\"colorbar\": {\"outlinewidth\": 0, \"ticks\": \"\"}}, \"type\": \"scatter\"}], \"scatter3d\": [{\"line\": {\"colorbar\": {\"outlinewidth\": 0, \"ticks\": \"\"}}, \"marker\": {\"colorbar\": {\"outlinewidth\": 0, \"ticks\": \"\"}}, \"type\": \"scatter3d\"}], \"scattercarpet\": [{\"marker\": {\"colorbar\": {\"outlinewidth\": 0, \"ticks\": \"\"}}, \"type\": \"scattercarpet\"}], \"scattergeo\": [{\"marker\": {\"colorbar\": {\"outlinewidth\": 0, \"ticks\": \"\"}}, \"type\": \"scattergeo\"}], \"scattergl\": [{\"marker\": {\"colorbar\": {\"outlinewidth\": 0, \"ticks\": \"\"}}, \"type\": \"scattergl\"}], \"scattermapbox\": [{\"marker\": {\"colorbar\": {\"outlinewidth\": 0, \"ticks\": \"\"}}, \"type\": \"scattermapbox\"}], \"scatterpolar\": [{\"marker\": {\"colorbar\": {\"outlinewidth\": 0, \"ticks\": \"\"}}, \"type\": \"scatterpolar\"}], \"scatterpolargl\": [{\"marker\": {\"colorbar\": {\"outlinewidth\": 0, \"ticks\": \"\"}}, \"type\": \"scatterpolargl\"}], \"scatterternary\": [{\"marker\": {\"colorbar\": {\"outlinewidth\": 0, \"ticks\": \"\"}}, \"type\": \"scatterternary\"}], \"surface\": [{\"colorbar\": {\"outlinewidth\": 0, \"ticks\": \"\"}, \"colorscale\": [[0.0, \"#0d0887\"], [0.1111111111111111, \"#46039f\"], [0.2222222222222222, \"#7201a8\"], [0.3333333333333333, \"#9c179e\"], [0.4444444444444444, \"#bd3786\"], [0.5555555555555556, \"#d8576b\"], [0.6666666666666666, \"#ed7953\"], [0.7777777777777778, \"#fb9f3a\"], [0.8888888888888888, \"#fdca26\"], [1.0, \"#f0f921\"]], \"type\": \"surface\"}], \"table\": [{\"cells\": {\"fill\": {\"color\": \"#EBF0F8\"}, \"line\": {\"color\": \"white\"}}, \"header\": {\"fill\": {\"color\": \"#C8D4E3\"}, \"line\": {\"color\": \"white\"}}, \"type\": \"table\"}]}, \"layout\": {\"annotationdefaults\": {\"arrowcolor\": \"#2a3f5f\", \"arrowhead\": 0, \"arrowwidth\": 1}, \"coloraxis\": {\"colorbar\": {\"outlinewidth\": 0, \"ticks\": \"\"}}, \"colorscale\": {\"diverging\": [[0, \"#8e0152\"], [0.1, \"#c51b7d\"], [0.2, \"#de77ae\"], [0.3, \"#f1b6da\"], [0.4, \"#fde0ef\"], [0.5, \"#f7f7f7\"], [0.6, \"#e6f5d0\"], [0.7, \"#b8e186\"], [0.8, \"#7fbc41\"], [0.9, \"#4d9221\"], [1, \"#276419\"]], \"sequential\": [[0.0, \"#0d0887\"], [0.1111111111111111, \"#46039f\"], [0.2222222222222222, \"#7201a8\"], [0.3333333333333333, \"#9c179e\"], [0.4444444444444444, \"#bd3786\"], [0.5555555555555556, \"#d8576b\"], [0.6666666666666666, \"#ed7953\"], [0.7777777777777778, \"#fb9f3a\"], [0.8888888888888888, \"#fdca26\"], [1.0, \"#f0f921\"]], \"sequentialminus\": [[0.0, \"#0d0887\"], [0.1111111111111111, \"#46039f\"], [0.2222222222222222, \"#7201a8\"], [0.3333333333333333, \"#9c179e\"], [0.4444444444444444, \"#bd3786\"], [0.5555555555555556, \"#d8576b\"], [0.6666666666666666, \"#ed7953\"], [0.7777777777777778, \"#fb9f3a\"], [0.8888888888888888, \"#fdca26\"], [1.0, \"#f0f921\"]]}, \"colorway\": [\"#636efa\", \"#EF553B\", \"#00cc96\", \"#ab63fa\", \"#FFA15A\", \"#19d3f3\", \"#FF6692\", \"#B6E880\", \"#FF97FF\", \"#FECB52\"], \"font\": {\"color\": \"#2a3f5f\"}, \"geo\": {\"bgcolor\": \"white\", \"lakecolor\": \"white\", \"landcolor\": \"#E5ECF6\", \"showlakes\": true, \"showland\": true, \"subunitcolor\": \"white\"}, \"hoverlabel\": {\"align\": \"left\"}, \"hovermode\": \"closest\", \"mapbox\": {\"style\": \"light\"}, \"paper_bgcolor\": \"white\", \"plot_bgcolor\": \"#E5ECF6\", \"polar\": {\"angularaxis\": {\"gridcolor\": \"white\", \"linecolor\": \"white\", \"ticks\": \"\"}, \"bgcolor\": \"#E5ECF6\", \"radialaxis\": {\"gridcolor\": \"white\", \"linecolor\": \"white\", \"ticks\": \"\"}}, \"scene\": {\"xaxis\": {\"backgroundcolor\": \"#E5ECF6\", \"gridcolor\": \"white\", \"gridwidth\": 2, \"linecolor\": \"white\", \"showbackground\": true, \"ticks\": \"\", \"zerolinecolor\": \"white\"}, \"yaxis\": {\"backgroundcolor\": \"#E5ECF6\", \"gridcolor\": \"white\", \"gridwidth\": 2, \"linecolor\": \"white\", \"showbackground\": true, \"ticks\": \"\", \"zerolinecolor\": \"white\"}, \"zaxis\": {\"backgroundcolor\": \"#E5ECF6\", \"gridcolor\": \"white\", \"gridwidth\": 2, \"linecolor\": \"white\", \"showbackground\": true, \"ticks\": \"\", \"zerolinecolor\": \"white\"}}, \"shapedefaults\": {\"line\": {\"color\": \"#2a3f5f\"}}, \"ternary\": {\"aaxis\": {\"gridcolor\": \"white\", \"linecolor\": \"white\", \"ticks\": \"\"}, \"baxis\": {\"gridcolor\": \"white\", \"linecolor\": \"white\", \"ticks\": \"\"}, \"bgcolor\": \"#E5ECF6\", \"caxis\": {\"gridcolor\": \"white\", \"linecolor\": \"white\", \"ticks\": \"\"}}, \"title\": {\"x\": 0.05}, \"xaxis\": {\"automargin\": true, \"gridcolor\": \"white\", \"linecolor\": \"white\", \"ticks\": \"\", \"title\": {\"standoff\": 15}, \"zerolinecolor\": \"white\", \"zerolinewidth\": 2}, \"yaxis\": {\"automargin\": true, \"gridcolor\": \"white\", \"linecolor\": \"white\", \"ticks\": \"\", \"title\": {\"standoff\": 15}, \"zerolinecolor\": \"white\", \"zerolinewidth\": 2}}}, \"xaxis\": {\"anchor\": \"y\", \"domain\": [0.0, 1.0], \"title\": {\"text\": \"sepal_length\"}}, \"yaxis\": {\"anchor\": \"x\", \"domain\": [0.0, 1.0], \"title\": {\"text\": \"sepal_width\"}}},\n",
              "                        {\"responsive\": true}\n",
              "                    ).then(function(){\n",
              "                            \n",
              "var gd = document.getElementById('3e04ba08-3aca-4abd-b9e3-0a53f0211658');\n",
              "var x = new MutationObserver(function (mutations, observer) {{\n",
              "        var display = window.getComputedStyle(gd).display;\n",
              "        if (!display || display === 'none') {{\n",
              "            console.log([gd, 'removed!']);\n",
              "            Plotly.purge(gd);\n",
              "            observer.disconnect();\n",
              "        }}\n",
              "}});\n",
              "\n",
              "// Listen for the removal of the full notebook cells\n",
              "var notebookContainer = gd.closest('#notebook-container');\n",
              "if (notebookContainer) {{\n",
              "    x.observe(notebookContainer, {childList: true});\n",
              "}}\n",
              "\n",
              "// Listen for the clearing of the current output cell\n",
              "var outputEl = gd.closest('.output');\n",
              "if (outputEl) {{\n",
              "    x.observe(outputEl, {childList: true});\n",
              "}}\n",
              "\n",
              "                        })\n",
              "                };\n",
              "                \n",
              "            </script>\n",
              "        </div>\n",
              "</body>\n",
              "</html>"
            ]
          },
          "metadata": {}
        }
      ]
    },
    {
      "cell_type": "markdown",
      "metadata": {
        "id": "3fAmWYK5UM1C"
      },
      "source": [
        "Como se puede apreciar en las visualizaciones mostradas anteriormente parece ser que las plantas del dataset iris se distribuyen en 3 grupos (azul, rojo y verde) en función de su especie. Cada uno de estos grupos se distribuye de una forma diferente en relación a sus características. Sin embargo parece que el grupo azul siempre se encuentra alejado y separado de los grupos rojo y verde (que se mezclan con frecuencia).\n",
        "\n",
        "El algoritmo UMAP calculará una representación en una dimensionalidad reducida tratando de preservar la distancias dentro de cada grupo (distancia intracluster), así como las distancias entre los grupos (distancias intercluster).\n",
        "\n",
        "Para ello es necesario tunear dos hiperparámetros del algoritmo:\n",
        "\n",
        "- n_neighboors: Número de puntos que se considerarán para construir las estructuras locales. Un valor bajo hará que UMAP se centre más en las estructuras locales, mientras que un valor alto permitirá que UMAP se centre en las estructuras globales. Hay que encontrar un valor apropriado que permita alcanzar un equilibrio entre ambas.\n",
        "\n",
        "- min_distance: Distancia mínima entre puntos en el espacio de dimensionalidad reducida. Una vez transformados los datos este parámetro controla como de cerca pueden estar unos de otros. Un valor bajo permitirá que los datos se amontonen en espacios reducidos, mientras que uno demasiado alto puede acarrear que se distribuyan de forma muy amplia."
      ]
    },
    {
      "cell_type": "code",
      "metadata": {
        "colab": {
          "base_uri": "https://localhost:8080/",
          "height": 527
        },
        "id": "4CTjdi7uWNZt",
        "outputId": "c1d81e9d-c0e8-47a9-f252-b5a7f52d0a2c"
      },
      "source": [
        "!pip install umap-learn\n",
        "import umap"
      ],
      "execution_count": 27,
      "outputs": [
        {
          "output_type": "stream",
          "name": "stdout",
          "text": [
            "Collecting umap-learn\n",
            "  Downloading umap-learn-0.5.2.tar.gz (86 kB)\n",
            "\u001b[K     |████████████████████████████████| 86 kB 4.6 MB/s \n",
            "\u001b[?25hRequirement already satisfied: numpy>=1.17 in /usr/local/lib/python3.7/dist-packages (from umap-learn) (1.19.5)\n",
            "Requirement already satisfied: scikit-learn>=0.22 in /usr/local/lib/python3.7/dist-packages (from umap-learn) (0.22.2.post1)\n",
            "Requirement already satisfied: scipy>=1.0 in /usr/local/lib/python3.7/dist-packages (from umap-learn) (1.4.1)\n",
            "Requirement already satisfied: numba>=0.49 in /usr/local/lib/python3.7/dist-packages (from umap-learn) (0.51.2)\n",
            "Collecting pynndescent>=0.5\n",
            "  Downloading pynndescent-0.5.5.tar.gz (1.1 MB)\n",
            "\u001b[K     |████████████████████████████████| 1.1 MB 33.1 MB/s \n",
            "\u001b[?25hRequirement already satisfied: tqdm in /usr/local/lib/python3.7/dist-packages (from umap-learn) (4.62.3)\n",
            "Requirement already satisfied: setuptools in /usr/local/lib/python3.7/dist-packages (from numba>=0.49->umap-learn) (57.4.0)\n",
            "Requirement already satisfied: llvmlite<0.35,>=0.34.0.dev0 in /usr/local/lib/python3.7/dist-packages (from numba>=0.49->umap-learn) (0.34.0)\n",
            "Requirement already satisfied: joblib>=0.11 in /usr/local/lib/python3.7/dist-packages (from pynndescent>=0.5->umap-learn) (1.0.1)\n",
            "Building wheels for collected packages: umap-learn, pynndescent\n",
            "  Building wheel for umap-learn (setup.py) ... \u001b[?25l\u001b[?25hdone\n",
            "  Created wheel for umap-learn: filename=umap_learn-0.5.2-py3-none-any.whl size=82709 sha256=9c27b695fbf4fb56f032771205de526c46e0935e0e6f7c9afa40334d432bd0d6\n",
            "  Stored in directory: /root/.cache/pip/wheels/84/1b/c6/aaf68a748122632967cef4dffef68224eb16798b6793257d82\n",
            "  Building wheel for pynndescent (setup.py) ... \u001b[?25l\u001b[?25hdone\n",
            "  Created wheel for pynndescent: filename=pynndescent-0.5.5-py3-none-any.whl size=52603 sha256=dcba56a636ec1bebcc0b3875fbd64f9513cbae3d0649c03992de647ac0566669\n",
            "  Stored in directory: /root/.cache/pip/wheels/af/e9/33/04db1436df0757c42fda8ea6796d7a8586e23c85fac355f476\n",
            "Successfully built umap-learn pynndescent\n",
            "Installing collected packages: pynndescent, umap-learn\n",
            "Successfully installed pynndescent-0.5.5 umap-learn-0.5.2\n"
          ]
        },
        {
          "output_type": "display_data",
          "data": {
            "application/vnd.colab-display-data+json": {
              "pip_warning": {
                "packages": [
                  "umap"
                ]
              }
            }
          },
          "metadata": {}
        }
      ]
    },
    {
      "cell_type": "code",
      "metadata": {
        "colab": {
          "base_uri": "https://localhost:8080/",
          "height": 167
        },
        "id": "S9PhA_wVWi0J",
        "outputId": "8b275828-a54b-4405-e9af-65255a59de5d"
      },
      "source": [
        "umap_transformer = umap.umap_.UMAP()"
      ],
      "execution_count": 24,
      "outputs": [
        {
          "output_type": "error",
          "ename": "AttributeError",
          "evalue": "ignored",
          "traceback": [
            "\u001b[0;31m---------------------------------------------------------------------------\u001b[0m",
            "\u001b[0;31mAttributeError\u001b[0m                            Traceback (most recent call last)",
            "\u001b[0;32m<ipython-input-24-6ec6131a717a>\u001b[0m in \u001b[0;36m<module>\u001b[0;34m()\u001b[0m\n\u001b[0;32m----> 1\u001b[0;31m \u001b[0mumap_transformer\u001b[0m \u001b[0;34m=\u001b[0m \u001b[0mumap\u001b[0m\u001b[0;34m.\u001b[0m\u001b[0mumap_\u001b[0m\u001b[0;34m.\u001b[0m\u001b[0mUMAP\u001b[0m\u001b[0;34m(\u001b[0m\u001b[0;34m)\u001b[0m\u001b[0;34m\u001b[0m\u001b[0;34m\u001b[0m\u001b[0m\n\u001b[0m",
            "\u001b[0;31mAttributeError\u001b[0m: module 'umap' has no attribute 'umap_'"
          ]
        }
      ]
    },
    {
      "cell_type": "code",
      "metadata": {
        "id": "pjHxQyG-WBad"
      },
      "source": [
        "dataset = sns.load_dataset(\"iris\")\n",
        "X = dataset.iloc[:,:-1]\n",
        "min_max_scl = MinMaxScaler()\n",
        "X_transformed = min_max_scl.fit_transform(X)\n",
        "X_transformed_df = pd.DataFrame(X_transformed)\n",
        "umap_transformer = umap.UMAP()\n",
        "X_transformed_2 = umap_transformer.fit_transform(X_transformed_df)\n",
        "X_transformed_df2 = pd.DataFrame(X_transformed_2)\n",
        "X_transformed_df2.head(5)"
      ],
      "execution_count": null,
      "outputs": []
    },
    {
      "cell_type": "markdown",
      "metadata": {
        "id": "CZq8tSUsvujD"
      },
      "source": [
        "# Generación Series Temporales Con Pandas"
      ]
    },
    {
      "cell_type": "code",
      "metadata": {
        "id": "FXj8TFXbwNjO"
      },
      "source": [
        ""
      ],
      "execution_count": null,
      "outputs": []
    },
    {
      "cell_type": "markdown",
      "metadata": {
        "id": "nyPl_2gMwOI0"
      },
      "source": [
        "# Selección de Características\n",
        "\n",
        "Los algoritmos de selección de características "
      ]
    },
    {
      "cell_type": "code",
      "metadata": {
        "id": "Y_hQf7WywUvu"
      },
      "source": [
        ""
      ],
      "execution_count": null,
      "outputs": []
    }
  ]
}